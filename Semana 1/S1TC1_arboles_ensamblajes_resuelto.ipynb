{
 "cells": [
  {
   "cell_type": "markdown",
   "metadata": {},
   "source": [
    "![image info](https://raw.githubusercontent.com/albahnsen/MIAD_ML_and_NLP/main/images/banner_1.png)"
   ]
  },
  {
   "cell_type": "markdown",
   "metadata": {},
   "source": [
    "# Taller: Construcción e implementación de árboles de decisión y métodos de ensamblaje\n",
    "\n",
    "En este taller podrá poner en práctica los sus conocimientos sobre construcción e implementación de árboles de decisión y métodos de ensamblajes. El taller está constituido por 9 puntos, 5 relacionados con árboles de decisión (parte A) y 4 con métodos de ensamblaje (parte B)."
   ]
  },
  {
   "cell_type": "markdown",
   "metadata": {},
   "source": [
    "## Parte A - Árboles de decisión\n",
    "\n",
    "En esta parte del taller se usará el conjunto de datos de Capital Bikeshare de Kaggle, donde cada observación representa el alquiler de bicicletas durante una hora y día determinado. Para más detalles puede visitar los siguientes enlaces: [datos](https://archive.ics.uci.edu/ml/machine-learning-databases/00275/Bike-Sharing-Dataset.zip), [dicccionario de datos](https://archive.ics.uci.edu/ml/datasets/Bike+Sharing+Dataset#)."
   ]
  },
  {
   "cell_type": "markdown",
   "metadata": {},
   "source": [
    "### Datos prestamo de bicicletas"
   ]
  },
  {
   "cell_type": "code",
   "execution_count": 21,
   "metadata": {},
   "outputs": [],
   "source": [
    "import warnings\n",
    "warnings.filterwarnings('ignore')"
   ]
  },
  {
   "cell_type": "code",
   "execution_count": 2,
   "metadata": {},
   "outputs": [],
   "source": [
    "# Importación de librerías\n",
    "%matplotlib inline\n",
    "import pandas as pd\n",
    "import numpy as np\n",
    "from sklearn.model_selection import cross_val_score\n",
    "from sklearn.linear_model import LinearRegression\n",
    "from sklearn.tree import DecisionTreeRegressor, export_graphviz"
   ]
  },
  {
   "cell_type": "code",
   "execution_count": 3,
   "metadata": {},
   "outputs": [
    {
     "data": {
      "application/vnd.microsoft.datawrangler.viewer.v0+json": {
       "columns": [
        {
         "name": "datetime",
         "rawType": "datetime64[ns]",
         "type": "datetime"
        },
        {
         "name": "season",
         "rawType": "int64",
         "type": "integer"
        },
        {
         "name": "holiday",
         "rawType": "int64",
         "type": "integer"
        },
        {
         "name": "workingday",
         "rawType": "int64",
         "type": "integer"
        },
        {
         "name": "weather",
         "rawType": "int64",
         "type": "integer"
        },
        {
         "name": "temp",
         "rawType": "float64",
         "type": "float"
        },
        {
         "name": "atemp",
         "rawType": "float64",
         "type": "float"
        },
        {
         "name": "humidity",
         "rawType": "int64",
         "type": "integer"
        },
        {
         "name": "windspeed",
         "rawType": "float64",
         "type": "float"
        },
        {
         "name": "casual",
         "rawType": "int64",
         "type": "integer"
        },
        {
         "name": "registered",
         "rawType": "int64",
         "type": "integer"
        },
        {
         "name": "total",
         "rawType": "int64",
         "type": "integer"
        },
        {
         "name": "hour",
         "rawType": "int32",
         "type": "integer"
        }
       ],
       "conversionMethod": "pd.DataFrame",
       "ref": "8f87d1e9-cfdd-41b3-a42c-621b2e6074f8",
       "rows": [
        [
         "2011-01-01 00:00:00",
         "1",
         "0",
         "0",
         "1",
         "9.84",
         "14.395",
         "81",
         "0.0",
         "3",
         "13",
         "16",
         "0"
        ],
        [
         "2011-01-01 01:00:00",
         "1",
         "0",
         "0",
         "1",
         "9.02",
         "13.635",
         "80",
         "0.0",
         "8",
         "32",
         "40",
         "1"
        ],
        [
         "2011-01-01 02:00:00",
         "1",
         "0",
         "0",
         "1",
         "9.02",
         "13.635",
         "80",
         "0.0",
         "5",
         "27",
         "32",
         "2"
        ],
        [
         "2011-01-01 03:00:00",
         "1",
         "0",
         "0",
         "1",
         "9.84",
         "14.395",
         "75",
         "0.0",
         "3",
         "10",
         "13",
         "3"
        ],
        [
         "2011-01-01 04:00:00",
         "1",
         "0",
         "0",
         "1",
         "9.84",
         "14.395",
         "75",
         "0.0",
         "0",
         "1",
         "1",
         "4"
        ]
       ],
       "shape": {
        "columns": 12,
        "rows": 5
       }
      },
      "text/html": [
       "<div>\n",
       "<style scoped>\n",
       "    .dataframe tbody tr th:only-of-type {\n",
       "        vertical-align: middle;\n",
       "    }\n",
       "\n",
       "    .dataframe tbody tr th {\n",
       "        vertical-align: top;\n",
       "    }\n",
       "\n",
       "    .dataframe thead th {\n",
       "        text-align: right;\n",
       "    }\n",
       "</style>\n",
       "<table border=\"1\" class=\"dataframe\">\n",
       "  <thead>\n",
       "    <tr style=\"text-align: right;\">\n",
       "      <th></th>\n",
       "      <th>season</th>\n",
       "      <th>holiday</th>\n",
       "      <th>workingday</th>\n",
       "      <th>weather</th>\n",
       "      <th>temp</th>\n",
       "      <th>atemp</th>\n",
       "      <th>humidity</th>\n",
       "      <th>windspeed</th>\n",
       "      <th>casual</th>\n",
       "      <th>registered</th>\n",
       "      <th>total</th>\n",
       "      <th>hour</th>\n",
       "    </tr>\n",
       "    <tr>\n",
       "      <th>datetime</th>\n",
       "      <th></th>\n",
       "      <th></th>\n",
       "      <th></th>\n",
       "      <th></th>\n",
       "      <th></th>\n",
       "      <th></th>\n",
       "      <th></th>\n",
       "      <th></th>\n",
       "      <th></th>\n",
       "      <th></th>\n",
       "      <th></th>\n",
       "      <th></th>\n",
       "    </tr>\n",
       "  </thead>\n",
       "  <tbody>\n",
       "    <tr>\n",
       "      <th>2011-01-01 00:00:00</th>\n",
       "      <td>1</td>\n",
       "      <td>0</td>\n",
       "      <td>0</td>\n",
       "      <td>1</td>\n",
       "      <td>9.84</td>\n",
       "      <td>14.395</td>\n",
       "      <td>81</td>\n",
       "      <td>0.0</td>\n",
       "      <td>3</td>\n",
       "      <td>13</td>\n",
       "      <td>16</td>\n",
       "      <td>0</td>\n",
       "    </tr>\n",
       "    <tr>\n",
       "      <th>2011-01-01 01:00:00</th>\n",
       "      <td>1</td>\n",
       "      <td>0</td>\n",
       "      <td>0</td>\n",
       "      <td>1</td>\n",
       "      <td>9.02</td>\n",
       "      <td>13.635</td>\n",
       "      <td>80</td>\n",
       "      <td>0.0</td>\n",
       "      <td>8</td>\n",
       "      <td>32</td>\n",
       "      <td>40</td>\n",
       "      <td>1</td>\n",
       "    </tr>\n",
       "    <tr>\n",
       "      <th>2011-01-01 02:00:00</th>\n",
       "      <td>1</td>\n",
       "      <td>0</td>\n",
       "      <td>0</td>\n",
       "      <td>1</td>\n",
       "      <td>9.02</td>\n",
       "      <td>13.635</td>\n",
       "      <td>80</td>\n",
       "      <td>0.0</td>\n",
       "      <td>5</td>\n",
       "      <td>27</td>\n",
       "      <td>32</td>\n",
       "      <td>2</td>\n",
       "    </tr>\n",
       "    <tr>\n",
       "      <th>2011-01-01 03:00:00</th>\n",
       "      <td>1</td>\n",
       "      <td>0</td>\n",
       "      <td>0</td>\n",
       "      <td>1</td>\n",
       "      <td>9.84</td>\n",
       "      <td>14.395</td>\n",
       "      <td>75</td>\n",
       "      <td>0.0</td>\n",
       "      <td>3</td>\n",
       "      <td>10</td>\n",
       "      <td>13</td>\n",
       "      <td>3</td>\n",
       "    </tr>\n",
       "    <tr>\n",
       "      <th>2011-01-01 04:00:00</th>\n",
       "      <td>1</td>\n",
       "      <td>0</td>\n",
       "      <td>0</td>\n",
       "      <td>1</td>\n",
       "      <td>9.84</td>\n",
       "      <td>14.395</td>\n",
       "      <td>75</td>\n",
       "      <td>0.0</td>\n",
       "      <td>0</td>\n",
       "      <td>1</td>\n",
       "      <td>1</td>\n",
       "      <td>4</td>\n",
       "    </tr>\n",
       "  </tbody>\n",
       "</table>\n",
       "</div>"
      ],
      "text/plain": [
       "                     season  holiday  workingday  weather  temp   atemp  \\\n",
       "datetime                                                                  \n",
       "2011-01-01 00:00:00       1        0           0        1  9.84  14.395   \n",
       "2011-01-01 01:00:00       1        0           0        1  9.02  13.635   \n",
       "2011-01-01 02:00:00       1        0           0        1  9.02  13.635   \n",
       "2011-01-01 03:00:00       1        0           0        1  9.84  14.395   \n",
       "2011-01-01 04:00:00       1        0           0        1  9.84  14.395   \n",
       "\n",
       "                     humidity  windspeed  casual  registered  total  hour  \n",
       "datetime                                                                   \n",
       "2011-01-01 00:00:00        81        0.0       3          13     16     0  \n",
       "2011-01-01 01:00:00        80        0.0       8          32     40     1  \n",
       "2011-01-01 02:00:00        80        0.0       5          27     32     2  \n",
       "2011-01-01 03:00:00        75        0.0       3          10     13     3  \n",
       "2011-01-01 04:00:00        75        0.0       0           1      1     4  "
      ]
     },
     "execution_count": 3,
     "metadata": {},
     "output_type": "execute_result"
    }
   ],
   "source": [
    "# Lectura de la información de archivo .csv\n",
    "bikes = pd.read_csv('https://raw.githubusercontent.com/davidzarruk/MIAD_ML_NLP_2023/main/datasets/bikeshare.csv', index_col='datetime', parse_dates=True)\n",
    "\n",
    "# Renombrar variable \"count\" a \"total\"\n",
    "bikes.rename(columns={'count':'total'}, inplace=True)\n",
    "\n",
    "# Crear la hora como una variable \n",
    "bikes['hour'] = bikes.index.hour\n",
    "\n",
    "# Visualización de los datos\n",
    "bikes.head()"
   ]
  },
  {
   "cell_type": "markdown",
   "metadata": {},
   "source": [
    "### Punto 1 - Análisis descriptivo\n",
    "\n",
    "Ejecute las celdas 1.1 y 1.2. A partir de los resultados realice un análisis descriptivo sobre las variables \"season\" y \"hour\", escriba sus inferencias sobre los datos. Para complementar su análisis puede usar métricas como máximo, mínimo, percentiles entre otros."
   ]
  },
  {
   "cell_type": "code",
   "execution_count": 4,
   "metadata": {},
   "outputs": [
    {
     "data": {
      "text/plain": [
       "season\n",
       "1    116.343261\n",
       "2    215.251372\n",
       "3    234.417124\n",
       "4    198.988296\n",
       "Name: total, dtype: float64"
      ]
     },
     "execution_count": 4,
     "metadata": {},
     "output_type": "execute_result"
    }
   ],
   "source": [
    "# Celda 1.1\n",
    "bikes.groupby('season').total.mean()"
   ]
  },
  {
   "cell_type": "code",
   "execution_count": 5,
   "metadata": {},
   "outputs": [
    {
     "data": {
      "application/vnd.microsoft.datawrangler.viewer.v0+json": {
       "columns": [
        {
         "name": "season",
         "rawType": "int64",
         "type": "integer"
        },
        {
         "name": "mean",
         "rawType": "float64",
         "type": "float"
        },
        {
         "name": "min",
         "rawType": "int64",
         "type": "integer"
        },
        {
         "name": "p25",
         "rawType": "float64",
         "type": "float"
        },
        {
         "name": "median",
         "rawType": "float64",
         "type": "float"
        },
        {
         "name": "p75",
         "rawType": "float64",
         "type": "float"
        },
        {
         "name": "max",
         "rawType": "int64",
         "type": "integer"
        }
       ],
       "conversionMethod": "pd.DataFrame",
       "ref": "54ce24e8-463b-4ef0-96cb-e91b48a42e20",
       "rows": [
        [
         "1",
         "116.34326135517499",
         "1",
         "24.0",
         "78.0",
         "164.0",
         "801"
        ],
        [
         "2",
         "215.25137211855105",
         "1",
         "49.0",
         "172.0",
         "321.0",
         "873"
        ],
        [
         "3",
         "234.417124039517",
         "1",
         "68.0",
         "195.0",
         "347.0",
         "977"
        ],
        [
         "4",
         "198.98829553767374",
         "1",
         "51.0",
         "161.0",
         "294.0",
         "948"
        ]
       ],
       "shape": {
        "columns": 6,
        "rows": 4
       }
      },
      "text/html": [
       "<div>\n",
       "<style scoped>\n",
       "    .dataframe tbody tr th:only-of-type {\n",
       "        vertical-align: middle;\n",
       "    }\n",
       "\n",
       "    .dataframe tbody tr th {\n",
       "        vertical-align: top;\n",
       "    }\n",
       "\n",
       "    .dataframe thead th {\n",
       "        text-align: right;\n",
       "    }\n",
       "</style>\n",
       "<table border=\"1\" class=\"dataframe\">\n",
       "  <thead>\n",
       "    <tr style=\"text-align: right;\">\n",
       "      <th></th>\n",
       "      <th>mean</th>\n",
       "      <th>min</th>\n",
       "      <th>p25</th>\n",
       "      <th>median</th>\n",
       "      <th>p75</th>\n",
       "      <th>max</th>\n",
       "    </tr>\n",
       "    <tr>\n",
       "      <th>season</th>\n",
       "      <th></th>\n",
       "      <th></th>\n",
       "      <th></th>\n",
       "      <th></th>\n",
       "      <th></th>\n",
       "      <th></th>\n",
       "    </tr>\n",
       "  </thead>\n",
       "  <tbody>\n",
       "    <tr>\n",
       "      <th>1</th>\n",
       "      <td>116.343261</td>\n",
       "      <td>1</td>\n",
       "      <td>24.0</td>\n",
       "      <td>78.0</td>\n",
       "      <td>164.0</td>\n",
       "      <td>801</td>\n",
       "    </tr>\n",
       "    <tr>\n",
       "      <th>2</th>\n",
       "      <td>215.251372</td>\n",
       "      <td>1</td>\n",
       "      <td>49.0</td>\n",
       "      <td>172.0</td>\n",
       "      <td>321.0</td>\n",
       "      <td>873</td>\n",
       "    </tr>\n",
       "    <tr>\n",
       "      <th>3</th>\n",
       "      <td>234.417124</td>\n",
       "      <td>1</td>\n",
       "      <td>68.0</td>\n",
       "      <td>195.0</td>\n",
       "      <td>347.0</td>\n",
       "      <td>977</td>\n",
       "    </tr>\n",
       "    <tr>\n",
       "      <th>4</th>\n",
       "      <td>198.988296</td>\n",
       "      <td>1</td>\n",
       "      <td>51.0</td>\n",
       "      <td>161.0</td>\n",
       "      <td>294.0</td>\n",
       "      <td>948</td>\n",
       "    </tr>\n",
       "  </tbody>\n",
       "</table>\n",
       "</div>"
      ],
      "text/plain": [
       "              mean  min   p25  median    p75  max\n",
       "season                                           \n",
       "1       116.343261    1  24.0    78.0  164.0  801\n",
       "2       215.251372    1  49.0   172.0  321.0  873\n",
       "3       234.417124    1  68.0   195.0  347.0  977\n",
       "4       198.988296    1  51.0   161.0  294.0  948"
      ]
     },
     "execution_count": 5,
     "metadata": {},
     "output_type": "execute_result"
    }
   ],
   "source": [
    "# Se complementa con algunas metricas adicionales para la variable \"total\" por cada estación\n",
    "bikes.groupby('season')['total'].agg(\n",
    "    mean='mean',\n",
    "    min='min',\n",
    "    p25=lambda x: x.quantile(0.25),\n",
    "    median='median',\n",
    "    p75=lambda x: x.quantile(0.75),\n",
    "    max='max'\n",
    "    )"
   ]
  },
  {
   "cell_type": "markdown",
   "metadata": {},
   "source": [
    "Respecto a los datos/metricas de la variable `total` agrupada por la variable `season` se puede observar que:\n",
    "* Según el diccionario de datos los valores en la variable correspondes a 1:winter, 2:spring, 3:summer, 4:fall\n",
    "* La media del total de bicicletas rentadas por hora es significativamente menor en invierno que en el resto de estaciones, por otra parte el promedio es mas alto en verano.\n",
    "* En las 4 estaciones la media es mayor que la mediana lo que posiblemente indica la presencia de datos con valores muy altos 'outliers' o una distribucion de datos sesgada a la izquierda.\n",
    "* El valor asumido por la variable `season` parece tener influencia en la varibale de respuesta `total`"
   ]
  },
  {
   "cell_type": "code",
   "execution_count": 6,
   "metadata": {
    "scrolled": true
   },
   "outputs": [
    {
     "data": {
      "text/plain": [
       "hour\n",
       "0      55.138462\n",
       "1      33.859031\n",
       "2      22.899554\n",
       "3      11.757506\n",
       "4       6.407240\n",
       "5      19.767699\n",
       "6      76.259341\n",
       "7     213.116484\n",
       "8     362.769231\n",
       "9     221.780220\n",
       "10    175.092308\n",
       "11    210.674725\n",
       "12    256.508772\n",
       "13    257.787281\n",
       "14    243.442982\n",
       "15    254.298246\n",
       "16    316.372807\n",
       "17    468.765351\n",
       "18    430.859649\n",
       "19    315.278509\n",
       "20    228.517544\n",
       "21    173.370614\n",
       "22    133.576754\n",
       "23     89.508772\n",
       "Name: total, dtype: float64"
      ]
     },
     "execution_count": 6,
     "metadata": {},
     "output_type": "execute_result"
    }
   ],
   "source": [
    "# Celda 1.2\n",
    "bikes.groupby('hour').total.mean()"
   ]
  },
  {
   "cell_type": "code",
   "execution_count": 7,
   "metadata": {},
   "outputs": [
    {
     "data": {
      "application/vnd.microsoft.datawrangler.viewer.v0+json": {
       "columns": [
        {
         "name": "hour",
         "rawType": "int32",
         "type": "integer"
        },
        {
         "name": "mean",
         "rawType": "float64",
         "type": "float"
        },
        {
         "name": "min",
         "rawType": "int64",
         "type": "integer"
        },
        {
         "name": "p25",
         "rawType": "float64",
         "type": "float"
        },
        {
         "name": "median",
         "rawType": "float64",
         "type": "float"
        },
        {
         "name": "p75",
         "rawType": "float64",
         "type": "float"
        },
        {
         "name": "max",
         "rawType": "int64",
         "type": "integer"
        }
       ],
       "conversionMethod": "pd.DataFrame",
       "ref": "38ddc829-f172-4117-9b90-d11fe5741698",
       "rows": [
        [
         "0",
         "55.13846153846154",
         "2",
         "24.0",
         "41.0",
         "74.5",
         "283"
        ],
        [
         "1",
         "33.859030837004404",
         "1",
         "11.0",
         "19.0",
         "46.0",
         "168"
        ],
        [
         "2",
         "22.899553571428573",
         "1",
         "5.0",
         "11.0",
         "32.0",
         "119"
        ],
        [
         "3",
         "11.757505773672056",
         "1",
         "3.0",
         "6.0",
         "15.0",
         "66"
        ],
        [
         "4",
         "6.407239819004525",
         "1",
         "3.0",
         "6.0",
         "9.0",
         "28"
        ],
        [
         "5",
         "19.76769911504425",
         "1",
         "8.0",
         "19.0",
         "29.0",
         "57"
        ],
        [
         "6",
         "76.25934065934067",
         "1",
         "24.5",
         "75.0",
         "118.0",
         "213"
        ],
        [
         "7",
         "213.11648351648353",
         "1",
         "63.0",
         "208.0",
         "334.0",
         "596"
        ],
        [
         "8",
         "362.7692307692308",
         "8",
         "133.5",
         "392.0",
         "563.5",
         "839"
        ],
        [
         "9",
         "221.78021978021977",
         "14",
         "161.0",
         "217.0",
         "294.5",
         "414"
        ],
        [
         "10",
         "175.09230769230768",
         "17",
         "106.0",
         "149.0",
         "218.5",
         "539"
        ],
        [
         "11",
         "210.67472527472526",
         "10",
         "123.0",
         "183.0",
         "265.5",
         "647"
        ],
        [
         "12",
         "256.50877192982455",
         "3",
         "157.0",
         "234.5",
         "332.0",
         "757"
        ],
        [
         "13",
         "257.7872807017544",
         "11",
         "154.0",
         "226.5",
         "329.0",
         "729"
        ],
        [
         "14",
         "243.44298245614036",
         "12",
         "144.0",
         "212.0",
         "311.25",
         "730"
        ],
        [
         "15",
         "254.2982456140351",
         "7",
         "154.0",
         "232.0",
         "331.0",
         "724"
        ],
        [
         "16",
         "316.37280701754383",
         "11",
         "211.75",
         "309.5",
         "421.0",
         "783"
        ],
        [
         "17",
         "468.765350877193",
         "15",
         "277.0",
         "480.5",
         "608.5",
         "970"
        ],
        [
         "18",
         "430.859649122807",
         "23",
         "240.75",
         "422.5",
         "564.0",
         "977"
        ],
        [
         "19",
         "315.2785087719298",
         "11",
         "190.0",
         "312.5",
         "416.0",
         "743"
        ],
        [
         "20",
         "228.51754385964912",
         "11",
         "136.75",
         "224.0",
         "302.0",
         "551"
        ],
        [
         "21",
         "173.37061403508773",
         "6",
         "103.5",
         "171.5",
         "230.0",
         "584"
        ],
        [
         "22",
         "133.5767543859649",
         "9",
         "80.0",
         "129.0",
         "175.0",
         "502"
        ],
        [
         "23",
         "89.50877192982456",
         "4",
         "52.75",
         "80.0",
         "123.0",
         "256"
        ]
       ],
       "shape": {
        "columns": 6,
        "rows": 24
       }
      },
      "text/html": [
       "<div>\n",
       "<style scoped>\n",
       "    .dataframe tbody tr th:only-of-type {\n",
       "        vertical-align: middle;\n",
       "    }\n",
       "\n",
       "    .dataframe tbody tr th {\n",
       "        vertical-align: top;\n",
       "    }\n",
       "\n",
       "    .dataframe thead th {\n",
       "        text-align: right;\n",
       "    }\n",
       "</style>\n",
       "<table border=\"1\" class=\"dataframe\">\n",
       "  <thead>\n",
       "    <tr style=\"text-align: right;\">\n",
       "      <th></th>\n",
       "      <th>mean</th>\n",
       "      <th>min</th>\n",
       "      <th>p25</th>\n",
       "      <th>median</th>\n",
       "      <th>p75</th>\n",
       "      <th>max</th>\n",
       "    </tr>\n",
       "    <tr>\n",
       "      <th>hour</th>\n",
       "      <th></th>\n",
       "      <th></th>\n",
       "      <th></th>\n",
       "      <th></th>\n",
       "      <th></th>\n",
       "      <th></th>\n",
       "    </tr>\n",
       "  </thead>\n",
       "  <tbody>\n",
       "    <tr>\n",
       "      <th>0</th>\n",
       "      <td>55.138462</td>\n",
       "      <td>2</td>\n",
       "      <td>24.00</td>\n",
       "      <td>41.0</td>\n",
       "      <td>74.50</td>\n",
       "      <td>283</td>\n",
       "    </tr>\n",
       "    <tr>\n",
       "      <th>1</th>\n",
       "      <td>33.859031</td>\n",
       "      <td>1</td>\n",
       "      <td>11.00</td>\n",
       "      <td>19.0</td>\n",
       "      <td>46.00</td>\n",
       "      <td>168</td>\n",
       "    </tr>\n",
       "    <tr>\n",
       "      <th>2</th>\n",
       "      <td>22.899554</td>\n",
       "      <td>1</td>\n",
       "      <td>5.00</td>\n",
       "      <td>11.0</td>\n",
       "      <td>32.00</td>\n",
       "      <td>119</td>\n",
       "    </tr>\n",
       "    <tr>\n",
       "      <th>3</th>\n",
       "      <td>11.757506</td>\n",
       "      <td>1</td>\n",
       "      <td>3.00</td>\n",
       "      <td>6.0</td>\n",
       "      <td>15.00</td>\n",
       "      <td>66</td>\n",
       "    </tr>\n",
       "    <tr>\n",
       "      <th>4</th>\n",
       "      <td>6.407240</td>\n",
       "      <td>1</td>\n",
       "      <td>3.00</td>\n",
       "      <td>6.0</td>\n",
       "      <td>9.00</td>\n",
       "      <td>28</td>\n",
       "    </tr>\n",
       "    <tr>\n",
       "      <th>5</th>\n",
       "      <td>19.767699</td>\n",
       "      <td>1</td>\n",
       "      <td>8.00</td>\n",
       "      <td>19.0</td>\n",
       "      <td>29.00</td>\n",
       "      <td>57</td>\n",
       "    </tr>\n",
       "    <tr>\n",
       "      <th>6</th>\n",
       "      <td>76.259341</td>\n",
       "      <td>1</td>\n",
       "      <td>24.50</td>\n",
       "      <td>75.0</td>\n",
       "      <td>118.00</td>\n",
       "      <td>213</td>\n",
       "    </tr>\n",
       "    <tr>\n",
       "      <th>7</th>\n",
       "      <td>213.116484</td>\n",
       "      <td>1</td>\n",
       "      <td>63.00</td>\n",
       "      <td>208.0</td>\n",
       "      <td>334.00</td>\n",
       "      <td>596</td>\n",
       "    </tr>\n",
       "    <tr>\n",
       "      <th>8</th>\n",
       "      <td>362.769231</td>\n",
       "      <td>8</td>\n",
       "      <td>133.50</td>\n",
       "      <td>392.0</td>\n",
       "      <td>563.50</td>\n",
       "      <td>839</td>\n",
       "    </tr>\n",
       "    <tr>\n",
       "      <th>9</th>\n",
       "      <td>221.780220</td>\n",
       "      <td>14</td>\n",
       "      <td>161.00</td>\n",
       "      <td>217.0</td>\n",
       "      <td>294.50</td>\n",
       "      <td>414</td>\n",
       "    </tr>\n",
       "    <tr>\n",
       "      <th>10</th>\n",
       "      <td>175.092308</td>\n",
       "      <td>17</td>\n",
       "      <td>106.00</td>\n",
       "      <td>149.0</td>\n",
       "      <td>218.50</td>\n",
       "      <td>539</td>\n",
       "    </tr>\n",
       "    <tr>\n",
       "      <th>11</th>\n",
       "      <td>210.674725</td>\n",
       "      <td>10</td>\n",
       "      <td>123.00</td>\n",
       "      <td>183.0</td>\n",
       "      <td>265.50</td>\n",
       "      <td>647</td>\n",
       "    </tr>\n",
       "    <tr>\n",
       "      <th>12</th>\n",
       "      <td>256.508772</td>\n",
       "      <td>3</td>\n",
       "      <td>157.00</td>\n",
       "      <td>234.5</td>\n",
       "      <td>332.00</td>\n",
       "      <td>757</td>\n",
       "    </tr>\n",
       "    <tr>\n",
       "      <th>13</th>\n",
       "      <td>257.787281</td>\n",
       "      <td>11</td>\n",
       "      <td>154.00</td>\n",
       "      <td>226.5</td>\n",
       "      <td>329.00</td>\n",
       "      <td>729</td>\n",
       "    </tr>\n",
       "    <tr>\n",
       "      <th>14</th>\n",
       "      <td>243.442982</td>\n",
       "      <td>12</td>\n",
       "      <td>144.00</td>\n",
       "      <td>212.0</td>\n",
       "      <td>311.25</td>\n",
       "      <td>730</td>\n",
       "    </tr>\n",
       "    <tr>\n",
       "      <th>15</th>\n",
       "      <td>254.298246</td>\n",
       "      <td>7</td>\n",
       "      <td>154.00</td>\n",
       "      <td>232.0</td>\n",
       "      <td>331.00</td>\n",
       "      <td>724</td>\n",
       "    </tr>\n",
       "    <tr>\n",
       "      <th>16</th>\n",
       "      <td>316.372807</td>\n",
       "      <td>11</td>\n",
       "      <td>211.75</td>\n",
       "      <td>309.5</td>\n",
       "      <td>421.00</td>\n",
       "      <td>783</td>\n",
       "    </tr>\n",
       "    <tr>\n",
       "      <th>17</th>\n",
       "      <td>468.765351</td>\n",
       "      <td>15</td>\n",
       "      <td>277.00</td>\n",
       "      <td>480.5</td>\n",
       "      <td>608.50</td>\n",
       "      <td>970</td>\n",
       "    </tr>\n",
       "    <tr>\n",
       "      <th>18</th>\n",
       "      <td>430.859649</td>\n",
       "      <td>23</td>\n",
       "      <td>240.75</td>\n",
       "      <td>422.5</td>\n",
       "      <td>564.00</td>\n",
       "      <td>977</td>\n",
       "    </tr>\n",
       "    <tr>\n",
       "      <th>19</th>\n",
       "      <td>315.278509</td>\n",
       "      <td>11</td>\n",
       "      <td>190.00</td>\n",
       "      <td>312.5</td>\n",
       "      <td>416.00</td>\n",
       "      <td>743</td>\n",
       "    </tr>\n",
       "    <tr>\n",
       "      <th>20</th>\n",
       "      <td>228.517544</td>\n",
       "      <td>11</td>\n",
       "      <td>136.75</td>\n",
       "      <td>224.0</td>\n",
       "      <td>302.00</td>\n",
       "      <td>551</td>\n",
       "    </tr>\n",
       "    <tr>\n",
       "      <th>21</th>\n",
       "      <td>173.370614</td>\n",
       "      <td>6</td>\n",
       "      <td>103.50</td>\n",
       "      <td>171.5</td>\n",
       "      <td>230.00</td>\n",
       "      <td>584</td>\n",
       "    </tr>\n",
       "    <tr>\n",
       "      <th>22</th>\n",
       "      <td>133.576754</td>\n",
       "      <td>9</td>\n",
       "      <td>80.00</td>\n",
       "      <td>129.0</td>\n",
       "      <td>175.00</td>\n",
       "      <td>502</td>\n",
       "    </tr>\n",
       "    <tr>\n",
       "      <th>23</th>\n",
       "      <td>89.508772</td>\n",
       "      <td>4</td>\n",
       "      <td>52.75</td>\n",
       "      <td>80.0</td>\n",
       "      <td>123.00</td>\n",
       "      <td>256</td>\n",
       "    </tr>\n",
       "  </tbody>\n",
       "</table>\n",
       "</div>"
      ],
      "text/plain": [
       "            mean  min     p25  median     p75  max\n",
       "hour                                              \n",
       "0      55.138462    2   24.00    41.0   74.50  283\n",
       "1      33.859031    1   11.00    19.0   46.00  168\n",
       "2      22.899554    1    5.00    11.0   32.00  119\n",
       "3      11.757506    1    3.00     6.0   15.00   66\n",
       "4       6.407240    1    3.00     6.0    9.00   28\n",
       "5      19.767699    1    8.00    19.0   29.00   57\n",
       "6      76.259341    1   24.50    75.0  118.00  213\n",
       "7     213.116484    1   63.00   208.0  334.00  596\n",
       "8     362.769231    8  133.50   392.0  563.50  839\n",
       "9     221.780220   14  161.00   217.0  294.50  414\n",
       "10    175.092308   17  106.00   149.0  218.50  539\n",
       "11    210.674725   10  123.00   183.0  265.50  647\n",
       "12    256.508772    3  157.00   234.5  332.00  757\n",
       "13    257.787281   11  154.00   226.5  329.00  729\n",
       "14    243.442982   12  144.00   212.0  311.25  730\n",
       "15    254.298246    7  154.00   232.0  331.00  724\n",
       "16    316.372807   11  211.75   309.5  421.00  783\n",
       "17    468.765351   15  277.00   480.5  608.50  970\n",
       "18    430.859649   23  240.75   422.5  564.00  977\n",
       "19    315.278509   11  190.00   312.5  416.00  743\n",
       "20    228.517544   11  136.75   224.0  302.00  551\n",
       "21    173.370614    6  103.50   171.5  230.00  584\n",
       "22    133.576754    9   80.00   129.0  175.00  502\n",
       "23     89.508772    4   52.75    80.0  123.00  256"
      ]
     },
     "execution_count": 7,
     "metadata": {},
     "output_type": "execute_result"
    }
   ],
   "source": [
    "# Se complementa con algunas metricas adicionales para la variable \"total\" por cada hora\n",
    "bikes.groupby('hour')['total'].agg(\n",
    "    mean='mean',\n",
    "    min='min',\n",
    "    p25=lambda x: x.quantile(0.25),\n",
    "    median='median',\n",
    "    p75=lambda x: x.quantile(0.75),\n",
    "    max='max'\n",
    "    )"
   ]
  },
  {
   "cell_type": "markdown",
   "metadata": {},
   "source": [
    "Respecto a los datos/metricas de la variable `total` agrupada por la variable `hour` se puede observar que:\n",
    "* Basados en el comportamiento de la media a lo largo del dia, el periodo de mayor actividad se da entre las 7AM y las 9PM.\n",
    "* El promedio mas alto se encuentra a las 5PM\n",
    "* La media es mas alta que la mediana en la mayoria de horas, las unicas excepciones son 8AM y las 5PM.\n",
    "* La variable `hour` parece ser una buena candidata para predecir la variable `total`"
   ]
  },
  {
   "cell_type": "markdown",
   "metadata": {},
   "source": [
    "### Punto 2 - Análisis de gráficos\n",
    "\n",
    "Primero ejecute la celda 2.1 y asegúrese de comprender el código y el resultado. Luego, en cada una de celdas 2.2 y 2.3 escriba un código que genere una gráfica del número de bicicletas rentadas promedio para cada valor de la variable \"hour\" (hora) cuando la variable \"season\" es igual a 1 (invierno) e igual a 3 (verano), respectivamente. Analice y escriba sus hallazgos."
   ]
  },
  {
   "cell_type": "code",
   "execution_count": 8,
   "metadata": {},
   "outputs": [
    {
     "data": {
      "text/plain": [
       "<Axes: xlabel='hour'>"
      ]
     },
     "execution_count": 8,
     "metadata": {},
     "output_type": "execute_result"
    },
    {
     "data": {
      "image/png": "[encoded data removed]",
      "text/plain": [
       "<Figure size 640x480 with 1 Axes>"
      ]
     },
     "metadata": {},
     "output_type": "display_data"
    }
   ],
   "source": [
    "# Celda 2.1 - rentas promedio para cada valor de la variable \"hour\"\n",
    "bikes.groupby('hour').total.mean().plot()"
   ]
  },
  {
   "cell_type": "code",
   "execution_count": 9,
   "metadata": {},
   "outputs": [
    {
     "data": {
      "text/plain": [
       "<Axes: xlabel='hour'>"
      ]
     },
     "execution_count": 9,
     "metadata": {},
     "output_type": "execute_result"
    },
    {
     "data": {
      "image/png": "[encoded data removed]",
      "text/plain": [
       "<Figure size 640x480 with 1 Axes>"
      ]
     },
     "metadata": {},
     "output_type": "display_data"
    }
   ],
   "source": [
    "# Celda 2.2 - \"season\"=1 escriba su código y hallazgos \n",
    "invierno = bikes[bikes['season'] == 1]\n",
    "invierno.groupby('hour').total.mean().plot()"
   ]
  },
  {
   "cell_type": "markdown",
   "metadata": {},
   "source": [
    "En el anterior grafico se observa el numero promedio de bicicletas rentadas por hora cuando la estación corresponde a invierno. Se puede observar que:\n",
    "* En general la disposicion de los valores sigue la misma forma que el grafico anterior en el que se mostraba el numero promedio de bicicletas rentadas por hora en todo el set de datos.\n",
    "* El rango de horas con mayor actividad de rentas se da entre las 8AM y las 5PM.\n",
    "* Hay 2 picos muy marcados en 8AM y 5PM, lo cual coincide en general con los horarios de entrada y salida de oficinas, instituciones educativas, etc.\n",
    "* Si bien la forma del grafico es similar al grafico general mostrado al inicio de esta sección, se debe notar que los valores son mucho mas bajos."
   ]
  },
  {
   "cell_type": "code",
   "execution_count": 10,
   "metadata": {},
   "outputs": [
    {
     "data": {
      "text/plain": [
       "<Axes: xlabel='hour'>"
      ]
     },
     "execution_count": 10,
     "metadata": {},
     "output_type": "execute_result"
    },
    {
     "data": {
      "image/png": "[encoded data removed]",
      "text/plain": [
       "<Figure size 640x480 with 1 Axes>"
      ]
     },
     "metadata": {},
     "output_type": "display_data"
    }
   ],
   "source": [
    "# Celda 2.3 - \"season\"=3 escriba su código y hallazgos \n",
    "verano = bikes[bikes['season'] == 3]\n",
    "verano.groupby('hour').total.mean().plot()"
   ]
  },
  {
   "cell_type": "markdown",
   "metadata": {},
   "source": [
    "En el anterior grafico se observa el numero promedio de bicicletas rentadas por hora cuando la estación corresponde a verano. Se puede observar que:\n",
    "* En general la disposición de los valores sigue la misma forma que el primer gráfico en el que se mostraba el numero promedio de bicicletas rentadas por hora en todo el set de datos.\n",
    "* El rango de horas con mayor actividad de rentas se da entre las 8AM y las 5PM.\n",
    "* Hay 2 picos muy marcados en 8AM y 5PM, lo cual coincide en general con los horarios de entrada y salida de oficinas, instituciones educativas, etc.\n",
    "* La forma del grafico sigue muy de cerca la forma del grafico al inicio de la sección, sin embargo ha de notarse que en este caso los valores son ligeramente mas altos."
   ]
  },
  {
   "cell_type": "markdown",
   "metadata": {},
   "source": [
    "### Punto 3 - Regresión lineal\n",
    "En la celda 3 ajuste un modelo de regresión lineal a un conjunto de train de datos, utilizando \"total\" como variable de respuesta y \"season\" y \"hour\" como las únicas variables predictoras, teniendo en cuenta que la variable \"season\" es categórica. Luego, imprima los coeficientes e interprételos. ¿Cuáles son las limitaciones de la regresión lineal en este caso?"
   ]
  },
  {
   "cell_type": "code",
   "execution_count": 49,
   "metadata": {},
   "outputs": [
    {
     "name": "stdout",
     "output_type": "stream",
     "text": [
      "Las variables predictoras son:  Index(['hour', 'season_2', 'season_3', 'season_4'], dtype='object')\n",
      "La variable dependiente es:  total\n",
      "El intercepto del modelo es:  -7.671323432608176\n",
      "Los coeficientes del modelo son:  [ 10.6876776   99.03019821 115.71036692  90.63770541]\n",
      "MSE:  25366.611967658602\n",
      "R^2:  0.21636575170625916\n"
     ]
    }
   ],
   "source": [
    "# Celda 3\n",
    "# Se definen las columnas para el modelo de regresion lineal\n",
    "train = bikes[['total', 'season', 'hour']]\n",
    "train = pd.get_dummies(train, columns=['season'], drop_first=True).astype(int)\n",
    "train.reset_index(drop=True, inplace=True)\n",
    "\n",
    "# Se definen las variables dependientes \"X\" e independiente \"y\"\n",
    "X = train.drop(columns='total')\n",
    "y = train['total']\n",
    "print(\"Las variables predictoras son: \", X.columns)\n",
    "print(\"La variable dependiente es: \", y.name)\n",
    "\n",
    "# Se dividen los datos en train y test\n",
    "from sklearn.model_selection import train_test_split\n",
    "X_train, X_test, y_train, y_test = train_test_split(X, y, test_size=0.33, random_state=42)\n",
    "\n",
    "# Se entrena el modelo de regresion lineal\n",
    "modelo = LinearRegression()\n",
    "modelo.fit(X_train, y_train)\n",
    "\n",
    "# Se imprimen los coeficientes del modelo\n",
    "print(\"El intercepto del modelo es: \", modelo.intercept_)\n",
    "print(\"Los coeficientes del modelo son: \", modelo.coef_)\n",
    "\n",
    "# Se generan las predicciones para el conjunto de prueba\n",
    "y_pred = modelo.predict(X_test)\n",
    "\n",
    "# Se evalua el modelo con el conjunto de prueba\n",
    "from sklearn.metrics import mean_squared_error, r2_score\n",
    "mse = mean_squared_error(y_test, y_pred)\n",
    "r2 = r2_score(y_test, y_pred)\n",
    "print(\"MSE: \", mse)\n",
    "print(\"R^2: \", r2)"
   ]
  },
  {
   "cell_type": "markdown",
   "metadata": {},
   "source": [
    "**Interpretación de los coeficientes del modelo**\n",
    "* Coeficiente de la variable `hour` (10.68) --> Indica que el numero de bicicletas rentadas aumenta en 10.68 en cada aumento unitario de la variable `hour`\n",
    "* Coeficiente de la variable `season_2` (99.03) --> Indica que el numero de bicicletas rentadas aumenta en 99.03 si la estacion corresponde a primavera. Dado que esta es una variable dummie que solo toma valores de 0 o 1, su efecto en el modelo refleja un aumento en la variable de respuesta con respecto a la estacion de referencia (que en este caso es invierno ya que corresponde a la categoria eliminada en el drop_first=True)\n",
    "* Coeficiente de la variable `season_3` (115.71) --> Indica que el numero de bicicletas rentadas aumenta en 115.71 si la estacion corresponde a verano.\n",
    "* Coeficiente de la variable `season_4` (90.63) --> Indica que el numero de bicicletas rentadas aumenta en 90.63 si la estacion corresponde a otoño.\n",
    "\n",
    "**¿Cuales son las limitaciones de la regresión lineal en este caso?**\n",
    "* En primer lugar una regresión lineal supone que existe una relación lineal entre las variables independientes y la variable de respuesta, en otras palabras, que la variable dependiente se puede expresar como una combinación lineal de las variables independientes. En este caso, cuando se observaron los datos en las secciones anteriores (Analisis descriptivo y analisis graficos) fue evidente que dicha relación no era lineal.\n",
    "* Si bien se indicó que las variables `hour` y `season` parecen tener una relación estrecha con el comportamiento de la variable de respuesta, dicha relación no es lineal.\n",
    "* Ante este hecho se deberia plantear la inclusión de transformaciones de las variables originales o la inclusion de nuevas varibales que aporten mas información."
   ]
  },
  {
   "cell_type": "markdown",
   "metadata": {},
   "source": [
    "### Punto 4 - Árbol de decisión manual\n",
    "En la celda 4 cree un árbol de decisiones para pronosticar la variable \"total\" iterando **manualmente** sobre las variables \"hour\" y  \"season\". El árbol debe tener al menos 6 nodos finales."
   ]
  },
  {
   "cell_type": "code",
   "execution_count": 55,
   "metadata": {},
   "outputs": [
    {
     "data": {
      "text/plain": [
       "{'y_pred': np.float64(191.86178527354997),\n",
       " 'level': 0,\n",
       " 'split': [0, np.float64(8.0)],\n",
       " 'n_samples': 7293,\n",
       " 'gain': 9398.41656382833,\n",
       " 'sl': {'y_pred': np.float64(55.10168101681017),\n",
       "  'level': 1,\n",
       "  'split': [0, np.float64(7.0)],\n",
       "  'n_samples': 2439,\n",
       "  'gain': 3606.2095120951208,\n",
       "  'sl': {'y_pred': np.float64(32.69640354974311),\n",
       "   'level': 2,\n",
       "   'split': [0, np.float64(6.0)],\n",
       "   'n_samples': 2141,\n",
       "   'gain': 342.0948155067724,\n",
       "   'sl': {'y_pred': np.float64(25.147138964577657),\n",
       "    'level': 3,\n",
       "    'split': [0, np.float64(2.0)],\n",
       "    'n_samples': 1835,\n",
       "    'gain': 169.67193460490455,\n",
       "    'sl': {'y_pred': np.float64(43.38486312399356),\n",
       "     'level': 4,\n",
       "     'split': [2, np.float64(1.0)],\n",
       "     'n_samples': 621,\n",
       "     'gain': 110.9565217391305,\n",
       "     'sl': {'y_pred': np.float64(37.35897435897436),\n",
       "      'level': 5,\n",
       "      'split': -1,\n",
       "      'n_samples': 468,\n",
       "      'gain': 84.0769230769231},\n",
       "     'sr': {'y_pred': np.float64(61.81699346405229),\n",
       "      'level': 5,\n",
       "      'split': -1,\n",
       "      'n_samples': 153,\n",
       "      'gain': 204.6013071895427}},\n",
       "    'sr': {'y_pred': np.float64(15.817957166392093),\n",
       "     'level': 4,\n",
       "     'split': [0, np.float64(3.0)],\n",
       "     'n_samples': 1214,\n",
       "     'gain': 21.047775947281764,\n",
       "     'sl': {'y_pred': np.float64(23.509615384615383),\n",
       "      'level': 5,\n",
       "      'split': -1,\n",
       "      'n_samples': 312,\n",
       "      'gain': 20.096153846153925},\n",
       "     'sr': {'y_pred': np.float64(13.157427937915743),\n",
       "      'level': 5,\n",
       "      'split': -1,\n",
       "      'n_samples': 902,\n",
       "      'gain': 30.655210643015536}}},\n",
       "   'sr': {'y_pred': np.float64(77.9673202614379),\n",
       "    'level': 3,\n",
       "    'split': [2, np.float64(1.0)],\n",
       "    'n_samples': 306,\n",
       "    'gain': 138.3921568627452,\n",
       "    'sl': {'y_pred': np.float64(71.22608695652174),\n",
       "     'level': 4,\n",
       "     'split': [1, np.float64(1.0)],\n",
       "     'n_samples': 230,\n",
       "     'gain': 101.87826086956511,\n",
       "     'sl': {'y_pred': np.float64(63.973684210526315),\n",
       "      'level': 5,\n",
       "      'split': -1,\n",
       "      'n_samples': 152,\n",
       "      'gain': 360.55263157894706},\n",
       "     'sr': {'y_pred': np.float64(85.35897435897436),\n",
       "      'level': 5,\n",
       "      'split': -1,\n",
       "      'n_samples': 78,\n",
       "      'gain': 0}},\n",
       "    'sr': {'y_pred': np.float64(98.36842105263158),\n",
       "     'level': 4,\n",
       "     'split': -1,\n",
       "     'n_samples': 76,\n",
       "     'gain': 0}}},\n",
       "  'sr': {'y_pred': np.float64(216.0738255033557),\n",
       "   'level': 2,\n",
       "   'split': [2, np.float64(1.0)],\n",
       "   'n_samples': 298,\n",
       "   'gain': 694.5402684563742,\n",
       "   'sl': {'y_pred': np.float64(201.06222222222223),\n",
       "    'level': 3,\n",
       "    'split': [3, np.float64(0.5454545454545325)],\n",
       "    'n_samples': 225,\n",
       "    'gain': 821.2266666666656,\n",
       "    'sl': {'y_pred': np.float64(179.35664335664336),\n",
       "     'level': 4,\n",
       "     'split': [1, np.float64(1.0)],\n",
       "     'n_samples': 143,\n",
       "     'gain': 2279.272727272728,\n",
       "     'sl': {'y_pred': np.float64(133.89333333333335),\n",
       "      'level': 5,\n",
       "      'split': -1,\n",
       "      'n_samples': 75,\n",
       "      'gain': 0},\n",
       "     'sr': {'y_pred': np.float64(229.5),\n",
       "      'level': 5,\n",
       "      'split': -1,\n",
       "      'n_samples': 68,\n",
       "      'gain': 0}},\n",
       "    'sr': {'y_pred': np.float64(238.91463414634146),\n",
       "     'level': 4,\n",
       "     'split': -1,\n",
       "     'n_samples': 82,\n",
       "     'gain': 0}},\n",
       "   'sr': {'y_pred': np.float64(262.3424657534247),\n",
       "    'level': 3,\n",
       "    'split': -1,\n",
       "    'n_samples': 73,\n",
       "    'gain': 0}}},\n",
       " 'sr': {'y_pred': np.float64(260.5799340749897),\n",
       "  'level': 1,\n",
       "  'split': [0, np.float64(21.0)],\n",
       "  'n_samples': 4854,\n",
       "  'gain': 3868.010506798517,\n",
       "  'sl': {'y_pred': np.float64(290.5549631886266),\n",
       "   'level': 2,\n",
       "   'split': [0, np.float64(16.0)],\n",
       "   'n_samples': 3939,\n",
       "   'gain': 2699.981975120587,\n",
       "   'sl': {'y_pred': np.float64(249.03535773710482),\n",
       "    'level': 3,\n",
       "    'split': [0, np.float64(9.0)],\n",
       "    'n_samples': 2404,\n",
       "    'gain': 2377.0499168053284,\n",
       "    'sl': {'y_pred': np.float64(379.1587837837838),\n",
       "     'level': 4,\n",
       "     'split': [3, np.float64(0.545454545454561)],\n",
       "     'n_samples': 296,\n",
       "     'gain': 1524.658783783787,\n",
       "     'sl': {'y_pred': np.float64(355.19069767441863),\n",
       "      'level': 5,\n",
       "      'split': -1,\n",
       "      'n_samples': 215,\n",
       "      'gain': 1580.4232558139556},\n",
       "     'sr': {'y_pred': np.float64(442.77777777777777),\n",
       "      'level': 5,\n",
       "      'split': -1,\n",
       "      'n_samples': 81,\n",
       "      'gain': 0}},\n",
       "    'sr': {'y_pred': np.float64(230.7637571157495),\n",
       "     'level': 4,\n",
       "     'split': [0, np.float64(12.0)],\n",
       "     'n_samples': 2108,\n",
       "     'gain': 670.3605313092958,\n",
       "     'sl': {'y_pred': np.float64(201.2660850599782),\n",
       "      'level': 5,\n",
       "      'split': -1,\n",
       "      'n_samples': 917,\n",
       "      'gain': 338.40894220283553},\n",
       "     'sr': {'y_pred': np.float64(253.4752308984047),\n",
       "      'level': 5,\n",
       "      'split': -1,\n",
       "      'n_samples': 1191,\n",
       "      'gain': 796.4584382871544}}},\n",
       "   'sr': {'y_pred': np.float64(355.5798045602606),\n",
       "    'level': 3,\n",
       "    'split': [0, np.float64(19.0)],\n",
       "    'n_samples': 1535,\n",
       "    'gain': 4082.734201954394,\n",
       "    'sl': {'y_pred': np.float64(406.06666666666666),\n",
       "     'level': 4,\n",
       "     'split': [0, np.float64(17.0)],\n",
       "     'n_samples': 945,\n",
       "     'gain': 3951.3047619047647,\n",
       "     'sl': {'y_pred': np.float64(314.7861842105263),\n",
       "      'level': 5,\n",
       "      'split': -1,\n",
       "      'n_samples': 304,\n",
       "      'gain': 1121.9078947368434},\n",
       "     'sr': {'y_pred': np.float64(449.3572542901716),\n",
       "      'level': 5,\n",
       "      'split': -1,\n",
       "      'n_samples': 641,\n",
       "      'gain': 2720.2464898595936}},\n",
       "    'sr': {'y_pred': np.float64(274.71525423728815),\n",
       "     'level': 4,\n",
       "     'split': [2, np.float64(1.0)],\n",
       "     'n_samples': 590,\n",
       "     'gain': 2392.0915254237298,\n",
       "     'sl': {'y_pred': np.float64(245.77574370709382),\n",
       "      'level': 5,\n",
       "      'split': -1,\n",
       "      'n_samples': 437,\n",
       "      'gain': 2159.6796338672757},\n",
       "     'sr': {'y_pred': np.float64(357.37254901960785),\n",
       "      'level': 5,\n",
       "      'split': -1,\n",
       "      'n_samples': 153,\n",
       "      'gain': 2761.1176470588234}}}},\n",
       "  'sr': {'y_pred': np.float64(131.5398907103825),\n",
       "   'level': 2,\n",
       "   'split': [0, np.float64(23.0)],\n",
       "   'n_samples': 915,\n",
       "   'gain': 881.8459016393444,\n",
       "   'sl': {'y_pred': np.float64(152.85099337748343),\n",
       "    'level': 3,\n",
       "    'split': [2, np.float64(1.0)],\n",
       "    'n_samples': 604,\n",
       "    'gain': 1007.2251655629134,\n",
       "    'sl': {'y_pred': np.float64(134.29111111111112),\n",
       "     'level': 4,\n",
       "     'split': [1, np.float64(1.0)],\n",
       "     'n_samples': 450,\n",
       "     'gain': 932.1399999999994,\n",
       "     'sl': {'y_pred': np.float64(113.02640264026402),\n",
       "      'level': 5,\n",
       "      'split': -1,\n",
       "      'n_samples': 303,\n",
       "      'gain': 892.0792079207922},\n",
       "     'sr': {'y_pred': np.float64(178.12244897959184),\n",
       "      'level': 5,\n",
       "      'split': -1,\n",
       "      'n_samples': 147,\n",
       "      'gain': 656.3673469387759}},\n",
       "    'sr': {'y_pred': np.float64(207.08441558441558),\n",
       "     'level': 4,\n",
       "     'split': [0, np.float64(22.0)],\n",
       "     'n_samples': 154,\n",
       "     'gain': 677.4935064935062,\n",
       "     'sl': {'y_pred': np.float64(236.36764705882354),\n",
       "      'level': 5,\n",
       "      'split': -1,\n",
       "      'n_samples': 68,\n",
       "      'gain': 0},\n",
       "     'sr': {'y_pred': np.float64(183.93023255813952),\n",
       "      'level': 5,\n",
       "      'split': -1,\n",
       "      'n_samples': 86,\n",
       "      'gain': 0}}},\n",
       "   'sr': {'y_pred': np.float64(90.15112540192926),\n",
       "    'level': 3,\n",
       "    'split': [2, np.float64(1.0)],\n",
       "    'n_samples': 311,\n",
       "    'gain': 356.418006430868,\n",
       "    'sl': {'y_pred': np.float64(79.13362068965517),\n",
       "     'level': 4,\n",
       "     'split': [1, np.float64(1.0)],\n",
       "     'n_samples': 232,\n",
       "     'gain': 240.40086206896558,\n",
       "     'sl': {'y_pred': np.float64(67.76821192052981),\n",
       "      'level': 5,\n",
       "      'split': -1,\n",
       "      'n_samples': 151,\n",
       "      'gain': 466.18543046357604},\n",
       "     'sr': {'y_pred': np.float64(100.32098765432099),\n",
       "      'level': 5,\n",
       "      'split': -1,\n",
       "      'n_samples': 81,\n",
       "      'gain': 0}},\n",
       "    'sr': {'y_pred': np.float64(122.50632911392405),\n",
       "     'level': 4,\n",
       "     'split': -1,\n",
       "     'n_samples': 79,\n",
       "     'gain': 0}}}}}"
      ]
     },
     "execution_count": 55,
     "metadata": {},
     "output_type": "execute_result"
    }
   ],
   "source": [
    "# Celda 4\n",
    "# Definición de parámetros y criterios de parada\n",
    "max_depth = None\n",
    "num_pct = 10\n",
    "max_features = None\n",
    "min_gain=0.001\n",
    "\n",
    "# División de la variable Hits en num_ctp puntos (parámetro definido anteriormente) para obtener posibles puntos de corte\n",
    "# splits = np.percentile(X.iloc[:, j], np.arange(0, 100, 100.0 / num_pct).tolist())\n",
    "# splits = np.unique(splits)\n",
    "\n",
    "# Definición de la función que calcula el MSE\n",
    "def mse_f(y):\n",
    "    if y.shape[0] == 0:\n",
    "        return 0\n",
    "    else:\n",
    "        y_pred = np.full_like(y, np.mean(y))\n",
    "        return mean_squared_error(y, y_pred)\n",
    "\n",
    "# Definición de la función MSE_lf para calular la ganancia de una variable predictora j dado el punto de corte split\n",
    "def MSE_lf(X_col, y, split):\n",
    "    \n",
    "    filter_l = X_col < split\n",
    "    y_l = y.loc[filter_l]\n",
    "    y_r = y.loc[~filter_l]\n",
    "    \n",
    "    n_l = y_l.shape[0]\n",
    "    n_r = y_r.shape[0]\n",
    "    \n",
    "    mse_pre = mse_f(y)\n",
    "    mse_l = mse_f(y_l)\n",
    "    mse_r = mse_f(y_r)\n",
    "    \n",
    "    gain = mse_pre - (((n_l * mse_l) + (n_r * mse_r)) / (n_l + n_r))\n",
    "    \n",
    "    return gain\n",
    "\n",
    "# Definición de la función best_split para calcular cuál es la mejor variable y punto de cortepara hacer la bifurcación del árbol\n",
    "def best_split(X, y, num_pct=10):\n",
    "    \n",
    "    features = range(X.shape[1])\n",
    "    \n",
    "    best_split = [0, 0, 0]  # j, split, gain\n",
    "    \n",
    "    # Para todas las varibles \n",
    "    for j in features:\n",
    "        \n",
    "        splits = np.percentile(X.iloc[:, j], np.arange(0, 100, 100.0 / (num_pct+1)).tolist())\n",
    "        splits = np.unique(splits)[1:]\n",
    "        \n",
    "        # Para cada partición\n",
    "        for split in splits:\n",
    "            gain = MSE_lf(X.iloc[:, j], y, split)\n",
    "                        \n",
    "            if gain > best_split[2]:\n",
    "                best_split = [j, split, gain]\n",
    "    \n",
    "    return best_split\n",
    "\n",
    "# Definición de la función tree_grow para hacer un crecimiento recursivo del árbol\n",
    "def tree_grow(X, y, level=0, min_gain=0.001, max_depth=None, num_pct=10):\n",
    "    \n",
    "    # Si solo es una observación\n",
    "    if X.shape[0] == 1:\n",
    "        tree = dict(y_pred=y.iloc[:1].values[0], level=level, split=-1, n_samples=1, gain=0)\n",
    "        return tree\n",
    "    \n",
    "    # Calcular la mejor división\n",
    "    j, split, gain = best_split(X, y, num_pct)\n",
    "    \n",
    "    # Guardar el árbol y estimar la predicción\n",
    "    y_pred = y.mean()\n",
    "        \n",
    "    tree = dict(y_pred=y_pred, level=level, split=-1, n_samples=X.shape[0], gain=gain)\n",
    "    # Revisar el criterio de parada \n",
    "    if gain < min_gain:\n",
    "        return tree\n",
    "    if max_depth is not None:\n",
    "        if level >= max_depth:\n",
    "            return tree   \n",
    "    \n",
    "    # Continuar creando la partición\n",
    "    filter_l = X.iloc[:, j] < split\n",
    "    X_l, y_l = X.loc[filter_l], y.loc[filter_l]\n",
    "    X_r, y_r = X.loc[~filter_l], y.loc[~filter_l]\n",
    "    tree['split'] = [j, split]\n",
    "\n",
    "    # Siguiente iteración para cada partición\n",
    "    \n",
    "    tree['sl'] = tree_grow(X_l, y_l, level + 1, min_gain=min_gain, max_depth=max_depth, num_pct=num_pct)\n",
    "    tree['sr'] = tree_grow(X_r, y_r, level + 1, min_gain=min_gain, max_depth=max_depth, num_pct=num_pct)\n",
    "    \n",
    "    return tree\n",
    "\n",
    "# Aplicación de la función tree_grow\n",
    "tree_grow(X_train, y_train, level=0, min_gain=0.001, max_depth=5, num_pct=10)"
   ]
  },
  {
   "cell_type": "markdown",
   "metadata": {},
   "source": [
    "### Punto 5 - Árbol de decisión con librería\n",
    "En la celda 5 entrene un árbol de decisiones con la **librería sklearn**, usando las variables predictoras \"season\" y \"hour\" y calibre los parámetros que considere conveniente para obtener un mejor desempeño. Recuerde dividir los datos en conjuntos de entrenamiento y validación para esto. Comente el desempeño del modelo con alguna métrica de desempeño de modelos de regresión y compare desempeño con el modelo del punto 3."
   ]
  },
  {
   "cell_type": "code",
   "execution_count": 27,
   "metadata": {},
   "outputs": [
    {
     "name": "stdout",
     "output_type": "stream",
     "text": [
      "Las variables predictoras son:  Index(['season', 'hour'], dtype='object')\n",
      "La variable dependiente es:  total\n",
      "MSE:  13659.493203354376\n",
      "R^2:  0.5780261588685437\n"
     ]
    }
   ],
   "source": [
    "# Celda 5\n",
    "# Se definen las columnas para el modelo de arbol de decision\n",
    "# NOTA: No se usan las particiones usadas en el punto 3 debido a que en aquel punto seaon se convirtio en dummie\n",
    "train_2 = bikes[['total', 'season', 'hour']]\n",
    "train_2['season'] = train_2['season'].astype('category')\n",
    "\n",
    "# Se definen las variables dependientes \"X\" e independiente \"y\"\n",
    "X = train_2.drop(columns='total')\n",
    "y = train_2['total']\n",
    "print(\"Las variables predictoras son: \", X.columns)\n",
    "print(\"La variable dependiente es: \", y.name)\n",
    "\n",
    "# Se dividen los datos en train y test\n",
    "X_train, X_test, y_train, y_test = train_test_split(X, y, test_size=0.33, random_state=42)\n",
    "\n",
    "# Se entrena el modelo de arbol de decision\n",
    "modelo_arbol = DecisionTreeRegressor(random_state=42, max_depth=8)\n",
    "modelo_arbol.fit(X_train, y_train)\n",
    "\n",
    "# Se generan las predicciones para el conjunto de prueba\n",
    "y_pred_arbol = modelo_arbol.predict(X_test)\n",
    "\n",
    "# Se evalua el modelo con el conjunto de prueba\n",
    "mse = mean_squared_error(y_test, y_pred_arbol)\n",
    "r2 = r2_score(y_test, y_pred_arbol)\n",
    "print(\"MSE: \", mse)\n",
    "print(\"R^2: \", r2)"
   ]
  },
  {
   "cell_type": "markdown",
   "metadata": {},
   "source": [
    "**Comentarios**\n",
    "* Se realizaron varias pruebas modificando el parametro max_depth encontrando el mejor desempeño con un valor de 8.\n",
    "* El modelo de regresión lineal del punto 3 tenia un MSE de 25366.61 y un R2 de 0.216\n",
    "* En el modelo de arbol se obtuvo un MSE de 13659.49 y un R2 de 0.578\n",
    "* Se observa una disminución significativa del MSE y un aumento considerable del R2 por lo que se puede decir que el modelo de arbol de decisión tiene un mayor poder predictivo en esta caso que una regresión lineal."
   ]
  },
  {
   "cell_type": "markdown",
   "metadata": {},
   "source": [
    "## Parte B - Métodos de ensamblajes\n",
    "En esta parte del taller se usará el conjunto de datos de Popularidad de Noticias Online. El objetivo es predecir si la notica es popular o no, la popularidad está dada por la cantidad de reacciones en redes sociales. Para más detalles puede visitar el siguiente enlace: [datos](https://archive.ics.uci.edu/ml/datasets/online+news+popularity)."
   ]
  },
  {
   "cell_type": "markdown",
   "metadata": {},
   "source": [
    "### Datos popularidad de noticias"
   ]
  },
  {
   "cell_type": "code",
   "execution_count": 28,
   "metadata": {},
   "outputs": [
    {
     "data": {
      "application/vnd.microsoft.datawrangler.viewer.v0+json": {
       "columns": [
        {
         "name": "index",
         "rawType": "int64",
         "type": "integer"
        },
        {
         "name": "url",
         "rawType": "object",
         "type": "string"
        },
        {
         "name": "timedelta",
         "rawType": "float64",
         "type": "float"
        },
        {
         "name": "n_tokens_title",
         "rawType": "float64",
         "type": "float"
        },
        {
         "name": "n_tokens_content",
         "rawType": "float64",
         "type": "float"
        },
        {
         "name": "n_unique_tokens",
         "rawType": "float64",
         "type": "float"
        },
        {
         "name": "n_non_stop_words",
         "rawType": "float64",
         "type": "float"
        },
        {
         "name": "n_non_stop_unique_tokens",
         "rawType": "float64",
         "type": "float"
        },
        {
         "name": "num_hrefs",
         "rawType": "float64",
         "type": "float"
        },
        {
         "name": "num_self_hrefs",
         "rawType": "float64",
         "type": "float"
        },
        {
         "name": "num_imgs",
         "rawType": "float64",
         "type": "float"
        },
        {
         "name": "num_videos",
         "rawType": "float64",
         "type": "float"
        },
        {
         "name": "average_token_length",
         "rawType": "float64",
         "type": "float"
        },
        {
         "name": "num_keywords",
         "rawType": "float64",
         "type": "float"
        },
        {
         "name": "data_channel_is_lifestyle",
         "rawType": "float64",
         "type": "float"
        },
        {
         "name": "data_channel_is_entertainment",
         "rawType": "float64",
         "type": "float"
        },
        {
         "name": "data_channel_is_bus",
         "rawType": "float64",
         "type": "float"
        },
        {
         "name": "data_channel_is_socmed",
         "rawType": "float64",
         "type": "float"
        },
        {
         "name": "data_channel_is_tech",
         "rawType": "float64",
         "type": "float"
        },
        {
         "name": "data_channel_is_world",
         "rawType": "float64",
         "type": "float"
        },
        {
         "name": "kw_min_min",
         "rawType": "float64",
         "type": "float"
        },
        {
         "name": "kw_max_min",
         "rawType": "float64",
         "type": "float"
        },
        {
         "name": "kw_avg_min",
         "rawType": "float64",
         "type": "float"
        },
        {
         "name": "kw_min_max",
         "rawType": "float64",
         "type": "float"
        },
        {
         "name": "kw_max_max",
         "rawType": "float64",
         "type": "float"
        },
        {
         "name": "kw_avg_max",
         "rawType": "float64",
         "type": "float"
        },
        {
         "name": "kw_min_avg",
         "rawType": "float64",
         "type": "float"
        },
        {
         "name": "kw_max_avg",
         "rawType": "float64",
         "type": "float"
        },
        {
         "name": "kw_avg_avg",
         "rawType": "float64",
         "type": "float"
        },
        {
         "name": "self_reference_min_shares",
         "rawType": "float64",
         "type": "float"
        },
        {
         "name": "self_reference_max_shares",
         "rawType": "float64",
         "type": "float"
        },
        {
         "name": "self_reference_avg_sharess",
         "rawType": "float64",
         "type": "float"
        },
        {
         "name": "weekday_is_monday",
         "rawType": "float64",
         "type": "float"
        },
        {
         "name": "weekday_is_tuesday",
         "rawType": "float64",
         "type": "float"
        },
        {
         "name": "weekday_is_wednesday",
         "rawType": "float64",
         "type": "float"
        },
        {
         "name": "weekday_is_thursday",
         "rawType": "float64",
         "type": "float"
        },
        {
         "name": "weekday_is_friday",
         "rawType": "float64",
         "type": "float"
        },
        {
         "name": "weekday_is_saturday",
         "rawType": "float64",
         "type": "float"
        },
        {
         "name": "weekday_is_sunday",
         "rawType": "float64",
         "type": "float"
        },
        {
         "name": "is_weekend",
         "rawType": "float64",
         "type": "float"
        },
        {
         "name": "LDA_00",
         "rawType": "float64",
         "type": "float"
        },
        {
         "name": "LDA_01",
         "rawType": "float64",
         "type": "float"
        },
        {
         "name": "LDA_02",
         "rawType": "float64",
         "type": "float"
        },
        {
         "name": "LDA_03",
         "rawType": "float64",
         "type": "float"
        },
        {
         "name": "LDA_04",
         "rawType": "float64",
         "type": "float"
        },
        {
         "name": "global_subjectivity",
         "rawType": "float64",
         "type": "float"
        },
        {
         "name": "global_sentiment_polarity",
         "rawType": "float64",
         "type": "float"
        },
        {
         "name": "global_rate_positive_words",
         "rawType": "float64",
         "type": "float"
        },
        {
         "name": "global_rate_negative_words",
         "rawType": "float64",
         "type": "float"
        },
        {
         "name": "rate_positive_words",
         "rawType": "float64",
         "type": "float"
        },
        {
         "name": "rate_negative_words",
         "rawType": "float64",
         "type": "float"
        },
        {
         "name": "avg_positive_polarity",
         "rawType": "float64",
         "type": "float"
        },
        {
         "name": "min_positive_polarity",
         "rawType": "float64",
         "type": "float"
        },
        {
         "name": "max_positive_polarity",
         "rawType": "float64",
         "type": "float"
        },
        {
         "name": "avg_negative_polarity",
         "rawType": "float64",
         "type": "float"
        },
        {
         "name": "min_negative_polarity",
         "rawType": "float64",
         "type": "float"
        },
        {
         "name": "max_negative_polarity",
         "rawType": "float64",
         "type": "float"
        },
        {
         "name": "title_subjectivity",
         "rawType": "float64",
         "type": "float"
        },
        {
         "name": "title_sentiment_polarity",
         "rawType": "float64",
         "type": "float"
        },
        {
         "name": "abs_title_subjectivity",
         "rawType": "float64",
         "type": "float"
        },
        {
         "name": "abs_title_sentiment_polarity",
         "rawType": "float64",
         "type": "float"
        },
        {
         "name": "Popular",
         "rawType": "int64",
         "type": "integer"
        }
       ],
       "conversionMethod": "pd.DataFrame",
       "ref": "d3b804d3-7688-4c86-9538-444840163b55",
       "rows": [
        [
         "0",
         "http://mashable.com/2014/12/10/cia-torture-report-whats-next/",
         "28.0",
         "9.0",
         "188.0",
         "0.732620316938",
         "0.999999991803",
         "0.844262288162",
         "5.0",
         "1.0",
         "1.0",
         "2.0",
         "4.70212765957",
         "7.0",
         "0.0",
         "0.0",
         "0.0",
         "0.0",
         "0.0",
         "0.0",
         "-1.0",
         "1300.0",
         "259.718",
         "0.0",
         "843300.0",
         "482257.142857",
         "0.0",
         "6963.95429169",
         "3415.94332189",
         "4500.0",
         "4500.0",
         "4500.0",
         "0.0",
         "0.0",
         "0.0",
         "1.0",
         "0.0",
         "0.0",
         "0.0",
         "0.0",
         "0.0285816612128",
         "0.0285940915781",
         "0.0285782015427",
         "0.7456731915279999",
         "0.168572854139",
         "0.62537593985",
         "0.144736842105",
         "0.0531914893617",
         "0.0212765957447",
         "0.714285714286",
         "0.285714285714",
         "0.47",
         "0.2",
         "0.8",
         "-0.4875",
         "-0.6",
         "-0.25",
         "0.9",
         "0.8",
         "0.4",
         "0.8",
         "1"
        ],
        [
         "1",
         "http://mashable.com/2013/10/18/bitlock-kickstarter/",
         "447.0",
         "7.0",
         "297.0",
         "0.653198650999",
         "0.999999994737",
         "0.8157894693909999",
         "9.0",
         "4.0",
         "1.0",
         "0.0",
         "5.0101010101",
         "8.0",
         "0.0",
         "0.0",
         "0.0",
         "0.0",
         "1.0",
         "0.0",
         "4.0",
         "919.0",
         "250.142857143",
         "0.0",
         "843300.0",
         "142712.5",
         "0.0",
         "4429.75",
         "2610.94105034",
         "928.0",
         "928.0",
         "928.0",
         "0.0",
         "0.0",
         "0.0",
         "0.0",
         "1.0",
         "0.0",
         "0.0",
         "0.0",
         "0.0270977062056",
         "0.0250055216099",
         "0.276713035146",
         "0.02500307759",
         "0.6461806594489999",
         "0.376438746439",
         "0.0565740740740999",
         "0.030303030303",
         "0.030303030303",
         "0.5",
         "0.5",
         "0.342777777778",
         "0.16",
         "0.5",
         "-0.135339506173",
         "-0.4",
         "-0.05",
         "0.1",
         "-0.1",
         "0.4",
         "0.1",
         "0"
        ],
        [
         "2",
         "http://mashable.com/2013/07/24/google-glass-porn-clip/",
         "533.0",
         "11.0",
         "181.0",
         "0.6603773543370001",
         "0.999999990654",
         "0.77570092733",
         "4.0",
         "3.0",
         "1.0",
         "0.0",
         "3.97237569061",
         "6.0",
         "0.0",
         "0.0",
         "0.0",
         "0.0",
         "1.0",
         "0.0",
         "4.0",
         "791.0",
         "205.666666667",
         "4800.0",
         "843300.0",
         "229066.666667",
         "2440.825",
         "3300.69831488",
         "2895.51630887",
         "1300.0",
         "1300.0",
         "1300.0",
         "0.0",
         "0.0",
         "1.0",
         "0.0",
         "0.0",
         "0.0",
         "0.0",
         "0.0",
         "0.0334992436448",
         "0.200063181284",
         "0.0334105269331",
         "0.0333338616252",
         "0.6996931865129999",
         "0.4625",
         "0.535795454545",
         "0.0497237569061",
         "0.0",
         "1.0",
         "0.0",
         "0.516262626263",
         "0.1363636363639999",
         "1.0",
         "0.0",
         "0.0",
         "0.0",
         "0.3",
         "1.0",
         "0.2",
         "1.0",
         "0"
        ],
        [
         "3",
         "http://mashable.com/2013/11/21/these-are-the-most-shared-ads-of-2013/",
         "413.0",
         "12.0",
         "781.0",
         "0.4974093257810001",
         "0.999999997863",
         "0.677350425903",
         "10.0",
         "3.0",
         "1.0",
         "0.0",
         "4.46734955186",
         "7.0",
         "0.0",
         "0.0",
         "1.0",
         "0.0",
         "0.0",
         "0.0",
         "4.0",
         "1200.0",
         "280.8",
         "0.0",
         "843300.0",
         "335642.857143",
         "0.0",
         "4415.72268908",
         "2103.9717874000007",
         "0.0",
         "0.0",
         "0.0",
         "0.0",
         "0.0",
         "0.0",
         "1.0",
         "0.0",
         "0.0",
         "0.0",
         "0.0",
         "0.457963104356",
         "0.0285800265126",
         "0.456140264367",
         "0.0286266110442",
         "0.0286899937199",
         "0.425314180769",
         "0.0910163321527",
         "0.0307298335467",
         "0.0230473751601",
         "0.5714285714289999",
         "0.428571428571",
         "0.436654040404",
         "0.1",
         "1.0",
         "-0.195701058201",
         "-0.4",
         "-0.0714285714286",
         "0.0",
         "0.0",
         "0.5",
         "0.0",
         "0"
        ],
        [
         "4",
         "http://mashable.com/2014/02/11/parking-ticket-prank/",
         "331.0",
         "8.0",
         "177.0",
         "0.685714281796",
         "0.999999991071",
         "0.830357135443",
         "3.0",
         "2.0",
         "1.0",
         "0.0",
         "5.146892655369999",
         "4.0",
         "0.0",
         "0.0",
         "0.0",
         "1.0",
         "0.0",
         "0.0",
         "-1.0",
         "935.0",
         "268.25",
         "1700.0",
         "843300.0",
         "258100.0",
         "1218.11111111",
         "3588.79019432",
         "2809.37418115",
         "2400.0",
         "8200.0",
         "5300.0",
         "0.0",
         "1.0",
         "0.0",
         "0.0",
         "0.0",
         "0.0",
         "0.0",
         "0.0",
         "0.0511206466931",
         "0.050013976381",
         "0.050166712059",
         "0.0500032814207",
         "0.7986953834460001",
         "0.370238095238",
         "0.148214285714",
         "0.0395480225989",
         "0.0112994350282",
         "0.777777777778",
         "0.222222222222",
         "0.346428571429",
         "0.1",
         "0.55",
         "-0.175",
         "-0.25",
         "-0.1",
         "0.0",
         "0.0",
         "0.5",
         "0.0",
         "0"
        ]
       ],
       "shape": {
        "columns": 61,
        "rows": 5
       }
      },
      "text/html": [
       "<div>\n",
       "<style scoped>\n",
       "    .dataframe tbody tr th:only-of-type {\n",
       "        vertical-align: middle;\n",
       "    }\n",
       "\n",
       "    .dataframe tbody tr th {\n",
       "        vertical-align: top;\n",
       "    }\n",
       "\n",
       "    .dataframe thead th {\n",
       "        text-align: right;\n",
       "    }\n",
       "</style>\n",
       "<table border=\"1\" class=\"dataframe\">\n",
       "  <thead>\n",
       "    <tr style=\"text-align: right;\">\n",
       "      <th></th>\n",
       "      <th>url</th>\n",
       "      <th>timedelta</th>\n",
       "      <th>n_tokens_title</th>\n",
       "      <th>n_tokens_content</th>\n",
       "      <th>n_unique_tokens</th>\n",
       "      <th>n_non_stop_words</th>\n",
       "      <th>n_non_stop_unique_tokens</th>\n",
       "      <th>num_hrefs</th>\n",
       "      <th>num_self_hrefs</th>\n",
       "      <th>num_imgs</th>\n",
       "      <th>...</th>\n",
       "      <th>min_positive_polarity</th>\n",
       "      <th>max_positive_polarity</th>\n",
       "      <th>avg_negative_polarity</th>\n",
       "      <th>min_negative_polarity</th>\n",
       "      <th>max_negative_polarity</th>\n",
       "      <th>title_subjectivity</th>\n",
       "      <th>title_sentiment_polarity</th>\n",
       "      <th>abs_title_subjectivity</th>\n",
       "      <th>abs_title_sentiment_polarity</th>\n",
       "      <th>Popular</th>\n",
       "    </tr>\n",
       "  </thead>\n",
       "  <tbody>\n",
       "    <tr>\n",
       "      <th>0</th>\n",
       "      <td>http://mashable.com/2014/12/10/cia-torture-rep...</td>\n",
       "      <td>28.0</td>\n",
       "      <td>9.0</td>\n",
       "      <td>188.0</td>\n",
       "      <td>0.732620</td>\n",
       "      <td>1.0</td>\n",
       "      <td>0.844262</td>\n",
       "      <td>5.0</td>\n",
       "      <td>1.0</td>\n",
       "      <td>1.0</td>\n",
       "      <td>...</td>\n",
       "      <td>0.200000</td>\n",
       "      <td>0.80</td>\n",
       "      <td>-0.487500</td>\n",
       "      <td>-0.60</td>\n",
       "      <td>-0.250000</td>\n",
       "      <td>0.9</td>\n",
       "      <td>0.8</td>\n",
       "      <td>0.4</td>\n",
       "      <td>0.8</td>\n",
       "      <td>1</td>\n",
       "    </tr>\n",
       "    <tr>\n",
       "      <th>1</th>\n",
       "      <td>http://mashable.com/2013/10/18/bitlock-kicksta...</td>\n",
       "      <td>447.0</td>\n",
       "      <td>7.0</td>\n",
       "      <td>297.0</td>\n",
       "      <td>0.653199</td>\n",
       "      <td>1.0</td>\n",
       "      <td>0.815789</td>\n",
       "      <td>9.0</td>\n",
       "      <td>4.0</td>\n",
       "      <td>1.0</td>\n",
       "      <td>...</td>\n",
       "      <td>0.160000</td>\n",
       "      <td>0.50</td>\n",
       "      <td>-0.135340</td>\n",
       "      <td>-0.40</td>\n",
       "      <td>-0.050000</td>\n",
       "      <td>0.1</td>\n",
       "      <td>-0.1</td>\n",
       "      <td>0.4</td>\n",
       "      <td>0.1</td>\n",
       "      <td>0</td>\n",
       "    </tr>\n",
       "    <tr>\n",
       "      <th>2</th>\n",
       "      <td>http://mashable.com/2013/07/24/google-glass-po...</td>\n",
       "      <td>533.0</td>\n",
       "      <td>11.0</td>\n",
       "      <td>181.0</td>\n",
       "      <td>0.660377</td>\n",
       "      <td>1.0</td>\n",
       "      <td>0.775701</td>\n",
       "      <td>4.0</td>\n",
       "      <td>3.0</td>\n",
       "      <td>1.0</td>\n",
       "      <td>...</td>\n",
       "      <td>0.136364</td>\n",
       "      <td>1.00</td>\n",
       "      <td>0.000000</td>\n",
       "      <td>0.00</td>\n",
       "      <td>0.000000</td>\n",
       "      <td>0.3</td>\n",
       "      <td>1.0</td>\n",
       "      <td>0.2</td>\n",
       "      <td>1.0</td>\n",
       "      <td>0</td>\n",
       "    </tr>\n",
       "    <tr>\n",
       "      <th>3</th>\n",
       "      <td>http://mashable.com/2013/11/21/these-are-the-m...</td>\n",
       "      <td>413.0</td>\n",
       "      <td>12.0</td>\n",
       "      <td>781.0</td>\n",
       "      <td>0.497409</td>\n",
       "      <td>1.0</td>\n",
       "      <td>0.677350</td>\n",
       "      <td>10.0</td>\n",
       "      <td>3.0</td>\n",
       "      <td>1.0</td>\n",
       "      <td>...</td>\n",
       "      <td>0.100000</td>\n",
       "      <td>1.00</td>\n",
       "      <td>-0.195701</td>\n",
       "      <td>-0.40</td>\n",
       "      <td>-0.071429</td>\n",
       "      <td>0.0</td>\n",
       "      <td>0.0</td>\n",
       "      <td>0.5</td>\n",
       "      <td>0.0</td>\n",
       "      <td>0</td>\n",
       "    </tr>\n",
       "    <tr>\n",
       "      <th>4</th>\n",
       "      <td>http://mashable.com/2014/02/11/parking-ticket-...</td>\n",
       "      <td>331.0</td>\n",
       "      <td>8.0</td>\n",
       "      <td>177.0</td>\n",
       "      <td>0.685714</td>\n",
       "      <td>1.0</td>\n",
       "      <td>0.830357</td>\n",
       "      <td>3.0</td>\n",
       "      <td>2.0</td>\n",
       "      <td>1.0</td>\n",
       "      <td>...</td>\n",
       "      <td>0.100000</td>\n",
       "      <td>0.55</td>\n",
       "      <td>-0.175000</td>\n",
       "      <td>-0.25</td>\n",
       "      <td>-0.100000</td>\n",
       "      <td>0.0</td>\n",
       "      <td>0.0</td>\n",
       "      <td>0.5</td>\n",
       "      <td>0.0</td>\n",
       "      <td>0</td>\n",
       "    </tr>\n",
       "  </tbody>\n",
       "</table>\n",
       "<p>5 rows × 61 columns</p>\n",
       "</div>"
      ],
      "text/plain": [
       "                                                 url  timedelta  \\\n",
       "0  http://mashable.com/2014/12/10/cia-torture-rep...       28.0   \n",
       "1  http://mashable.com/2013/10/18/bitlock-kicksta...      447.0   \n",
       "2  http://mashable.com/2013/07/24/google-glass-po...      533.0   \n",
       "3  http://mashable.com/2013/11/21/these-are-the-m...      413.0   \n",
       "4  http://mashable.com/2014/02/11/parking-ticket-...      331.0   \n",
       "\n",
       "   n_tokens_title  n_tokens_content  n_unique_tokens  n_non_stop_words  \\\n",
       "0             9.0             188.0         0.732620               1.0   \n",
       "1             7.0             297.0         0.653199               1.0   \n",
       "2            11.0             181.0         0.660377               1.0   \n",
       "3            12.0             781.0         0.497409               1.0   \n",
       "4             8.0             177.0         0.685714               1.0   \n",
       "\n",
       "   n_non_stop_unique_tokens  num_hrefs  num_self_hrefs  num_imgs  ...  \\\n",
       "0                  0.844262        5.0             1.0       1.0  ...   \n",
       "1                  0.815789        9.0             4.0       1.0  ...   \n",
       "2                  0.775701        4.0             3.0       1.0  ...   \n",
       "3                  0.677350       10.0             3.0       1.0  ...   \n",
       "4                  0.830357        3.0             2.0       1.0  ...   \n",
       "\n",
       "   min_positive_polarity  max_positive_polarity  avg_negative_polarity  \\\n",
       "0               0.200000                   0.80              -0.487500   \n",
       "1               0.160000                   0.50              -0.135340   \n",
       "2               0.136364                   1.00               0.000000   \n",
       "3               0.100000                   1.00              -0.195701   \n",
       "4               0.100000                   0.55              -0.175000   \n",
       "\n",
       "   min_negative_polarity  max_negative_polarity  title_subjectivity  \\\n",
       "0                  -0.60              -0.250000                 0.9   \n",
       "1                  -0.40              -0.050000                 0.1   \n",
       "2                   0.00               0.000000                 0.3   \n",
       "3                  -0.40              -0.071429                 0.0   \n",
       "4                  -0.25              -0.100000                 0.0   \n",
       "\n",
       "   title_sentiment_polarity  abs_title_subjectivity  \\\n",
       "0                       0.8                     0.4   \n",
       "1                      -0.1                     0.4   \n",
       "2                       1.0                     0.2   \n",
       "3                       0.0                     0.5   \n",
       "4                       0.0                     0.5   \n",
       "\n",
       "   abs_title_sentiment_polarity  Popular  \n",
       "0                           0.8        1  \n",
       "1                           0.1        0  \n",
       "2                           1.0        0  \n",
       "3                           0.0        0  \n",
       "4                           0.0        0  \n",
       "\n",
       "[5 rows x 61 columns]"
      ]
     },
     "execution_count": 28,
     "metadata": {},
     "output_type": "execute_result"
    }
   ],
   "source": [
    "# Lectura de la información de archivo .csv\n",
    "df = pd.read_csv('https://raw.githubusercontent.com/davidzarruk/MIAD_ML_NLP_2023/main/datasets/mashable.csv', index_col=0)\n",
    "df.head()"
   ]
  },
  {
   "cell_type": "code",
   "execution_count": 29,
   "metadata": {},
   "outputs": [
    {
     "data": {
      "text/plain": [
       "np.float64(0.5)"
      ]
     },
     "execution_count": 29,
     "metadata": {},
     "output_type": "execute_result"
    }
   ],
   "source": [
    "# Definición variable de interes y variables predictoras\n",
    "X = df.drop(['url', 'Popular'], axis=1)\n",
    "y = df['Popular']\n",
    "y.mean()"
   ]
  },
  {
   "cell_type": "code",
   "execution_count": 30,
   "metadata": {},
   "outputs": [],
   "source": [
    "# División de la muestra en set de entrenamiento y prueba\n",
    "from sklearn.model_selection import train_test_split\n",
    "X_train, X_test, y_train, y_test = train_test_split(X, y, random_state=1)"
   ]
  },
  {
   "cell_type": "markdown",
   "metadata": {},
   "source": [
    "### Punto 6 - Árbol de decisión y regresión logística\n",
    "En la celda 6 construya un árbol de decisión y una regresión logística. Para el árbol calibre al menos un parámetro y evalúe el desempeño de cada modelo usando las métricas de Accuracy y F1-Score."
   ]
  },
  {
   "cell_type": "code",
   "execution_count": 40,
   "metadata": {},
   "outputs": [
    {
     "name": "stdout",
     "output_type": "stream",
     "text": [
      "Accuracy del modelo de árbol:  0.64\n",
      "F1-score del modelo de árbol:  0.6633416458852868\n"
     ]
    },
    {
     "data": {
      "image/png": "[encoded data removed]",
      "text/plain": [
       "<Figure size 640x480 with 1 Axes>"
      ]
     },
     "metadata": {},
     "output_type": "display_data"
    },
    {
     "name": "stdout",
     "output_type": "stream",
     "text": [
      "Accuracy del modelo de regresión logística:  0.616\n",
      "F1-score del modelo de regresión logística:  0.6065573770491803\n"
     ]
    },
    {
     "data": {
      "image/png": "[encoded data removed]",
      "text/plain": [
       "<Figure size 640x480 with 1 Axes>"
      ]
     },
     "metadata": {},
     "output_type": "display_data"
    }
   ],
   "source": [
    "# Celda 6\n",
    "# Se entrena un modelo de clasificación de arbol de decisión\n",
    "from sklearn.tree import DecisionTreeClassifier\n",
    "modelo_DTC = DecisionTreeClassifier(random_state=42, max_depth=5) # Se corrieron varios intentos cambiando el max_depth\n",
    "modelo_DTC.fit(X_train, y_train)\n",
    "\n",
    "# Se generan las predicciones para el conjunto de prueba y se evalua el modelo\n",
    "from sklearn.metrics import accuracy_score, f1_score\n",
    "y_pred_DTC = modelo_DTC.predict(X_test)\n",
    "accuracy = accuracy_score(y_test, y_pred_DTC)\n",
    "f1 = f1_score(y_test, y_pred_DTC)\n",
    "print(\"Accuracy del modelo de árbol: \", accuracy)\n",
    "print(\"F1-score del modelo de árbol: \", f1)\n",
    "\n",
    "# Se grafica AUC\n",
    "from sklearn.metrics import roc_auc_score, roc_curve\n",
    "import matplotlib.pyplot as plt\n",
    "y_pred_proba = modelo_DTC.predict_proba(X_test)[:, 1]\n",
    "fpr, tpr, thresholds = roc_curve(y_test, y_pred_proba)\n",
    "plt.plot(fpr, tpr, label='AUC = %.2f' % roc_auc_score(y_test, y_pred_proba))\n",
    "plt.plot([0, 1], [0, 1], 'k--')\n",
    "plt.xlabel('False Positive Rate')\n",
    "plt.ylabel('True Positive Rate')\n",
    "plt.title('Receiver Operating Characteristic (ROC) Árbol de decisión')\n",
    "plt.legend(loc='best')\n",
    "plt.show()\n",
    "\n",
    "# Se entrena un modelo de regresion logistica\n",
    "from sklearn.linear_model import LogisticRegression\n",
    "modelo_log = LogisticRegression(max_iter=1000)\n",
    "modelo_log.fit(X_train, y_train)\n",
    "\n",
    "# Se generan las predicciones para el conjunto de prueba y se evalua el modelo\n",
    "y_pred_log = modelo_log.predict(X_test)\n",
    "accuracy = accuracy_score(y_test, y_pred_log)\n",
    "f1 = f1_score(y_test, y_pred_log)\n",
    "print(\"Accuracy del modelo de regresión logística: \", accuracy)\n",
    "print(\"F1-score del modelo de regresión logística: \", f1)\n",
    "\n",
    "# Se grafica AUC\n",
    "y_pred_proba = modelo_log.predict_proba(X_test)[:, 1]\n",
    "fpr, tpr, thresholds = roc_curve(y_test, y_pred_proba)\n",
    "plt.plot(fpr, tpr, label='AUC = %.2f' % roc_auc_score(y_test, y_pred_proba))\n",
    "plt.plot([0, 1], [0, 1], 'k--')\n",
    "plt.xlabel('False Positive Rate')\n",
    "plt.ylabel('True Positive Rate')\n",
    "plt.title('Receiver Operating Characteristic (ROC) Regresion Logística')\n",
    "plt.legend(loc='best')\n",
    "plt.show()"
   ]
  },
  {
   "cell_type": "markdown",
   "metadata": {},
   "source": [
    "**Comentarios**\n",
    "* El modelo de arbol obtiene mayor accuracy y mayor F1-score que el modelo de regresión logística\n",
    "* Para el modelo de arbol se intenta calibrar usando el max_depth, encontrando el mayor accuracy con un valor de 5\n",
    "* Se grafican las curvas ROC y se obtiene el AUC para los dos modelos confirmando un desempeño ligeramente mayor en el modelo de arbol"
   ]
  },
  {
   "cell_type": "markdown",
   "metadata": {},
   "source": [
    "### Punto 7 - Votación Mayoritaria\n",
    "En la celda 7 elabore un esamble con la metodología de **Votación mayoritaria** compuesto por 300 muestras bagged donde:\n",
    "\n",
    "-las primeras 100 muestras vienen de árboles de decisión donde max_depth tome un valor de su elección\\\n",
    "-las segundas 100 muestras vienen de árboles de decisión donde min_samples_leaf tome un valor de su elección\\\n",
    "-las últimas 100 muestras vienen de regresiones logísticas\n",
    "\n",
    "Evalúe cada uno de los tres modelos de manera independiente utilizando las métricas de Accuracy y F1-Score, luego evalúe el ensamble de modelos y compare los resultados. \n",
    "\n",
    "Nota: \n",
    "\n",
    "Para este ensamble de 300 modelos, deben hacer votación mayoritaria. Esto lo pueden hacer de distintas maneras. La más \"fácil\" es haciendo la votación \"manualmente\", como se hace a partir del minuto 5:45 del video de Ejemplo práctico de emsablajes en Coursera. Digo que es la más fácil porque si hacen la votación mayoritaria sobre las 300 predicciones van a obtener lo que se espera.\n",
    "\n",
    "Otra opción es: para cada uno de los 3 tipos de modelos, entrenar un ensamble de 100 modelos cada uno. Predecir para cada uno de esos tres ensambles y luego predecir como un ensamble de los 3 ensambles. La cuestión es que la votación mayoritaria al usar los 3 ensambles no necesariamente va a generar el mismo resultado que si hacen la votación mayoritaria directamente sobre los 300 modelos. Entonces, para los que quieran hacer esto, deben hacer ese último cálculo con cuidado.\n",
    "\n",
    "Para los que quieran hacerlo como ensamble de ensambles, digo que se debe hacer el ensamble final con cuidado por lo siguiente. Supongamos que:\n",
    "\n",
    "* para los 100 árboles del primer tipo, la votación mayoritaria es: 55% de los modelos predicen que la clase de una observación es \"1\"\n",
    "* para los 100 árboles del segundo tipo, la votación mayoritaria es: 55% de los modelos predicen que la clase de una observación es \"1\"\n",
    "* para las 100 regresiones logísticas, la votación mayoritaria es: 10% de los modelos predicen que la clase de una observación es \"1\"\n",
    "\n",
    "Si se hace la votación mayoritaria de los 300 modelos, la predicción de esa observación debería ser: (100*55%+100*55%+100*10%)/300 = 40% de los modelos votan porque la predicción debería ser \"1\". Es decir, la predicción del ensamble es \"0\" (dado que menos del 50% de modelos predijo un 1).\n",
    "\n",
    "Sin embargo, si miramos cada ensamble por separado, el primer ensamble predice \"1\", el segundo ensamble predice \"1\" y el último ensamble predice \"0\". Si hago votación mayoritaria sobre esto, la predicción va a ser \"1\", lo cual es distinto a si se hace la votación mayoritaria sobre los 300 modelos."
   ]
  },
  {
   "cell_type": "code",
   "execution_count": 47,
   "metadata": {},
   "outputs": [
    {
     "name": "stdout",
     "output_type": "stream",
     "text": [
      "Accuracy del ensamblaje:  0.64\n",
      "F1-score del ensamblaje:  0.6296296296296297\n"
     ]
    }
   ],
   "source": [
    "# Celda 7\n",
    "# Creación de 300 muestras de bootstrap\n",
    "n_estimators = 300\n",
    "np.random.seed(123)\n",
    "\n",
    "n_samples = X_train.shape[0]\n",
    "samples = [np.random.choice(a=n_samples, size=n_samples, replace=True) for _ in range(n_estimators)]\n",
    "\n",
    "# Entrenamiento de 300 modelos con las 300 muestras boostrap\n",
    "np.random.seed(123) \n",
    "seeds = np.random.randint(1, 10000, size=n_estimators)\n",
    "\n",
    "modelos = {}\n",
    "for i in range(n_estimators):\n",
    "    if i < 100:\n",
    "        modelos[i] = DecisionTreeClassifier(max_features=\"sqrt\", max_depth=5, random_state=seeds[i])\n",
    "        modelos[i].fit(X_train.iloc[samples[i]], y_train.iloc[samples[i]])\n",
    "    elif i < 200:\n",
    "        modelos[i] = DecisionTreeClassifier(max_features=\"sqrt\", max_depth=None, random_state=seeds[i], min_samples_leaf=3)\n",
    "        modelos[i].fit(X_train.iloc[samples[i]], y_train.iloc[samples[i]])\n",
    "    else:\n",
    "        modelos[i] = LogisticRegression(max_iter=1000)\n",
    "        modelos[i].fit(X_train.iloc[samples[i]], y_train.iloc[samples[i]])\n",
    "\n",
    "\n",
    "# Predicción para los datos del set de test con cada modelo\n",
    "y_pred_df = pd.DataFrame(index=X_test.index, columns=list(range(n_estimators)))\n",
    "for i in range(n_estimators):\n",
    "    y_pred_df.iloc[:, i] = modelos[i].predict(X_test)\n",
    "\n",
    "# Votación mayoritaria\n",
    "y_pred = (y_pred_df.sum(axis=1) >= (n_estimators / 2)).astype(np.int64)\n",
    "\n",
    "# Desempeño al hacer votación mayoritaria\n",
    "accuracy = accuracy_score(y_test, y_pred)\n",
    "f1 = f1_score(y_test, y_pred)\n",
    "print(\"Accuracy del ensamblaje: \", accuracy)\n",
    "print(\"F1-score del ensamblaje: \", f1)"
   ]
  },
  {
   "cell_type": "markdown",
   "metadata": {},
   "source": [
    "### Punto 8 - Votación Ponderada\n",
    "En la celda 8 elabore un ensamble con la metodología de **Votación ponderada** compuesto por 300 muestras bagged para los mismos tres escenarios del punto 7. Evalúe los modelos utilizando las métricas de Accuracy y F1-Score"
   ]
  },
  {
   "cell_type": "code",
   "execution_count": 48,
   "metadata": {},
   "outputs": [
    {
     "name": "stdout",
     "output_type": "stream",
     "text": [
      "Accuracy del ensamblaje con votación ponderada:  0.6366666666666667\n",
      "F1-score del ensamblaje con votación ponderada:  0.6254295532646048\n"
     ]
    },
    {
     "data": {
      "image/png": "[encoded data removed]",
      "text/plain": [
       "<Figure size 640x480 with 1 Axes>"
      ]
     },
     "metadata": {},
     "output_type": "display_data"
    }
   ],
   "source": [
    "# Celda 8\n",
    "samples_oob = []\n",
    "# Obtención de las observaciones fuera de la bolsa \"out-of-bag\" para cada muestra\n",
    "for sample in samples:\n",
    "    samples_oob.append(sorted(set(range(n_samples)) - set(sample)))\n",
    "\n",
    "# Estimación de los errores OOB para cada clasificador\n",
    "errors = np.zeros(n_estimators)\n",
    "\n",
    "for i in range(n_estimators):\n",
    "    y_pred_ = modelos[i].predict(X_train.iloc[samples_oob[i]])\n",
    "    errors[i] = 1 - metrics.accuracy_score(y_train.iloc[samples_oob[i]], y_pred_)\n",
    "\n",
    "# Visualización de OOB para cada árbol\n",
    "%matplotlib inline\n",
    "import matplotlib.pyplot as plt\n",
    "plt.style.use('fivethirtyeight')\n",
    "\n",
    "plt.scatter(range(n_estimators), errors)\n",
    "plt.xlim([0, n_estimators])\n",
    "plt.title('OOB error para cada modelo')\n",
    "\n",
    "# Obtención de los pesos alpha de cada modelo de acuerdo al error OOB\n",
    "alpha = (1 - errors) / (1 - errors).sum()\n",
    "\n",
    "# Ponderación de las predicciones con los pesos alpha\n",
    "weighted_sum_1 = ((y_pred_df) * alpha).sum(axis=1)\n",
    "\n",
    "# Desempeño al hacer votación ponderada\n",
    "y_pred = (weighted_sum_1 >= 0.5).astype(np.int64)\n",
    "accuracy = accuracy_score(y_test, y_pred)\n",
    "f1 = f1_score(y_test, y_pred)\n",
    "print(\"Accuracy del ensamblaje con votación ponderada: \", accuracy)\n",
    "print(\"F1-score del ensamblaje con votación ponderada: \", f1)"
   ]
  },
  {
   "cell_type": "markdown",
   "metadata": {},
   "source": [
    "### Punto 9 - Comparación y análisis de resultados\n",
    "En la celda 9 comente sobre los resultados obtenidos con las metodologías usadas en los puntos 7 y 8, compare los resultados y enuncie posibles ventajas o desventajas de cada una de ellas."
   ]
  },
  {
   "cell_type": "markdown",
   "metadata": {},
   "source": [
    "**Resumen de resultados**\n",
    "* Modelo de arbol (punto 6)\n",
    "    * Accuracy del modelo de árbol:  0.64\n",
    "    * F1-score del modelo de árbol:  0.6633416458852868\n",
    "* Regresión logistica (punto 6)\n",
    "    * Accuracy del modelo de regresión logística:  0.616\n",
    "    * F1-score del modelo de regresión logística:  0.6065573770491803\n",
    "* Ensamblaje con votación mayoritaria\n",
    "    * Accuracy del ensamblaje:  0.64\n",
    "    * F1-score del ensamblaje:  0.6296296296296297\n",
    "* Ensamblaje con votación ponderada\n",
    "    * Accuracy del ensamblaje con votación ponderada:  0.6366666666666667\n",
    "    * F1-score del ensamblaje con votación ponderada:  0.6254295532646048\n",
    "\n",
    "**Comentarios**\n",
    "* En cuanto a accuracy el modelo de arbol y los ensamblajes tuvieron un desempeño similar\n",
    "* En cuanto a F1-score el modelo de arbol tuvo el mayor valor, lo que resalta un buen equilibrio entre precision y recall\n",
    "* La regresión logística obtuvo los rendimientos mas bajos de los 4 modelos, esto sugiere que la relación entre las variables no es lineal y es necesario algun tipo de transformación.\n",
    "* Al parecer en este caso los ensamblajes no aportan una mejora significativa con respecto al modelo de arbol, sin embargo hay que destacar que mantienen un buen desempeño."
   ]
  }
 ],
 "metadata": {
  "kernelspec": {
   "display_name": "Python 3",
   "language": "python",
   "name": "python3"
  },
  "language_info": {
   "codemirror_mode": {
    "name": "ipython",
    "version": 3
   },
   "file_extension": ".py",
   "mimetype": "text/x-python",
   "name": "python",
   "nbconvert_exporter": "python",
   "pygments_lexer": "ipython3",
   "version": "3.12.4"
  }
 },
 "nbformat": 4,
 "nbformat_minor": 4
}
